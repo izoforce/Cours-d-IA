{
 "cells": [
  {
   "cell_type": "markdown",
   "id": "eb65103e-3cfe-4d9f-87d7-ed847c6f4648",
   "metadata": {},
   "source": [
    "# 1. Importation Des Librairies "
   ]
  },
  {
   "cell_type": "code",
   "execution_count": 92,
   "id": "2e0f8dd6-a978-4c3a-93dd-2c930c018140",
   "metadata": {},
   "outputs": [],
   "source": [
    "import numpy as np\n",
    "import pandas as pd\n",
    "import matplotlib.pyplot as plt \n",
    "import seaborn as sns\n",
    "# pour le spliting\n",
    "from sklearn.model_selection import train_test_split \n",
    "# pour la standardisationdes data \n",
    "from sklearn.preprocessing import StandardScaler\n",
    "#importation pour le snn\n",
    "from tensorflow.keras.models import Sequential\n",
    "from tensorflow.keras.layers import Dense\n",
    "from tensorflow.keras.optimizers import Adam\n",
    "\n",
    "import warnings \n",
    "warnings.filterwarnings('ignore')"
   ]
  },
  {
   "cell_type": "markdown",
   "id": "58e8a2b4-50ab-46ce-9147-5791cd2fc4c2",
   "metadata": {},
   "source": [
    "# 2. Importation De La Data Set"
   ]
  },
  {
   "cell_type": "code",
   "execution_count": 93,
   "id": "3f62e3cf-788e-4693-be2c-df57b868a6bd",
   "metadata": {},
   "outputs": [
    {
     "data": {
      "text/html": [
       "<div>\n",
       "<style scoped>\n",
       "    .dataframe tbody tr th:only-of-type {\n",
       "        vertical-align: middle;\n",
       "    }\n",
       "\n",
       "    .dataframe tbody tr th {\n",
       "        vertical-align: top;\n",
       "    }\n",
       "\n",
       "    .dataframe thead th {\n",
       "        text-align: right;\n",
       "    }\n",
       "</style>\n",
       "<table border=\"1\" class=\"dataframe\">\n",
       "  <thead>\n",
       "    <tr style=\"text-align: right;\">\n",
       "      <th></th>\n",
       "      <th>Flow ID</th>\n",
       "      <th>Src IP</th>\n",
       "      <th>Src Port</th>\n",
       "      <th>Dst IP</th>\n",
       "      <th>Dst Port</th>\n",
       "      <th>Protocol</th>\n",
       "      <th>Timestamp</th>\n",
       "      <th>Flow Duration</th>\n",
       "      <th>Total Fwd Packet</th>\n",
       "      <th>Total Bwd packets</th>\n",
       "      <th>...</th>\n",
       "      <th>Active Mean</th>\n",
       "      <th>Active Std</th>\n",
       "      <th>Active Max</th>\n",
       "      <th>Active Min</th>\n",
       "      <th>Idle Mean</th>\n",
       "      <th>Idle Std</th>\n",
       "      <th>Idle Max</th>\n",
       "      <th>Idle Min</th>\n",
       "      <th>Label</th>\n",
       "      <th>Label.1</th>\n",
       "    </tr>\n",
       "  </thead>\n",
       "  <tbody>\n",
       "    <tr>\n",
       "      <th>0</th>\n",
       "      <td>10.152.152.11-216.58.220.99-57158-443-6</td>\n",
       "      <td>10.152.152.11</td>\n",
       "      <td>57158</td>\n",
       "      <td>216.58.220.99</td>\n",
       "      <td>443</td>\n",
       "      <td>6</td>\n",
       "      <td>7/24/2015 16:09</td>\n",
       "      <td>229</td>\n",
       "      <td>1</td>\n",
       "      <td>1</td>\n",
       "      <td>...</td>\n",
       "      <td>0</td>\n",
       "      <td>0</td>\n",
       "      <td>0</td>\n",
       "      <td>0</td>\n",
       "      <td>0.0</td>\n",
       "      <td>0.0</td>\n",
       "      <td>0.0</td>\n",
       "      <td>0.0</td>\n",
       "      <td>Non-Tor</td>\n",
       "      <td>AUDIO-STREAMING</td>\n",
       "    </tr>\n",
       "    <tr>\n",
       "      <th>1</th>\n",
       "      <td>10.152.152.11-216.58.220.99-57159-443-6</td>\n",
       "      <td>10.152.152.11</td>\n",
       "      <td>57159</td>\n",
       "      <td>216.58.220.99</td>\n",
       "      <td>443</td>\n",
       "      <td>6</td>\n",
       "      <td>7/24/2015 16:09</td>\n",
       "      <td>407</td>\n",
       "      <td>1</td>\n",
       "      <td>1</td>\n",
       "      <td>...</td>\n",
       "      <td>0</td>\n",
       "      <td>0</td>\n",
       "      <td>0</td>\n",
       "      <td>0</td>\n",
       "      <td>0.0</td>\n",
       "      <td>0.0</td>\n",
       "      <td>0.0</td>\n",
       "      <td>0.0</td>\n",
       "      <td>Non-Tor</td>\n",
       "      <td>AUDIO-STREAMING</td>\n",
       "    </tr>\n",
       "  </tbody>\n",
       "</table>\n",
       "<p>2 rows × 85 columns</p>\n",
       "</div>"
      ],
      "text/plain": [
       "                                   Flow ID         Src IP  Src Port  \\\n",
       "0  10.152.152.11-216.58.220.99-57158-443-6  10.152.152.11     57158   \n",
       "1  10.152.152.11-216.58.220.99-57159-443-6  10.152.152.11     57159   \n",
       "\n",
       "          Dst IP  Dst Port  Protocol        Timestamp  Flow Duration  \\\n",
       "0  216.58.220.99       443         6  7/24/2015 16:09            229   \n",
       "1  216.58.220.99       443         6  7/24/2015 16:09            407   \n",
       "\n",
       "   Total Fwd Packet  Total Bwd packets  ...  Active Mean  Active Std  \\\n",
       "0                 1                  1  ...            0           0   \n",
       "1                 1                  1  ...            0           0   \n",
       "\n",
       "   Active Max  Active Min  Idle Mean  Idle Std  Idle Max  Idle Min    Label  \\\n",
       "0           0           0        0.0       0.0       0.0       0.0  Non-Tor   \n",
       "1           0           0        0.0       0.0       0.0       0.0  Non-Tor   \n",
       "\n",
       "           Label.1  \n",
       "0  AUDIO-STREAMING  \n",
       "1  AUDIO-STREAMING  \n",
       "\n",
       "[2 rows x 85 columns]"
      ]
     },
     "execution_count": 93,
     "metadata": {},
     "output_type": "execute_result"
    }
   ],
   "source": [
    "data = pd.read_csv('data/Darknet_2.csv')\n",
    "data.head(2)"
   ]
  },
  {
   "cell_type": "markdown",
   "id": "45d8429f-96fd-4dac-9c6b-5035822f0754",
   "metadata": {},
   "source": [
    "# 3. Analyse Des Data"
   ]
  },
  {
   "cell_type": "code",
   "execution_count": 94,
   "id": "bd0f93f0-1552-49da-83cc-08f19314423c",
   "metadata": {},
   "outputs": [],
   "source": [
    "#data.info()"
   ]
  },
  {
   "cell_type": "code",
   "execution_count": 95,
   "id": "abd90833-475a-4a59-977b-2dbbd9613a87",
   "metadata": {},
   "outputs": [
    {
     "data": {
      "text/plain": [
       "Flow ID     0\n",
       "Src IP      0\n",
       "Src Port    0\n",
       "Dst IP      0\n",
       "Dst Port    0\n",
       "           ..\n",
       "Idle Std    0\n",
       "Idle Max    0\n",
       "Idle Min    0\n",
       "Label       0\n",
       "Label.1     0\n",
       "Length: 85, dtype: int64"
      ]
     },
     "execution_count": 95,
     "metadata": {},
     "output_type": "execute_result"
    }
   ],
   "source": [
    "data.isnull().sum()"
   ]
  },
  {
   "cell_type": "code",
   "execution_count": 96,
   "id": "d7cf8bdb-ec4a-456a-b97e-7ce0a11736f4",
   "metadata": {},
   "outputs": [
    {
     "data": {
      "text/plain": [
       "(141530, 85)"
      ]
     },
     "execution_count": 96,
     "metadata": {},
     "output_type": "execute_result"
    }
   ],
   "source": [
    "data.shape"
   ]
  },
  {
   "cell_type": "code",
   "execution_count": 97,
   "id": "20cd4441-d8ed-438e-bfdd-2c94b4909522",
   "metadata": {},
   "outputs": [
    {
     "data": {
      "text/plain": [
       "array(['AUDIO-STREAMING', 'Browsing', 'Chat', 'Email', 'File-Transfer',\n",
       "       'File-transfer', 'P2P', 'Video-Streaming', 'Audio-Streaming',\n",
       "       'Video-streaming', 'VOIP'], dtype=object)"
      ]
     },
     "execution_count": 97,
     "metadata": {},
     "output_type": "execute_result"
    }
   ],
   "source": [
    "data['Label.1'].unique()"
   ]
  },
  {
   "cell_type": "code",
   "execution_count": 98,
   "id": "140233d9-0694-4e6c-838e-6b4723c4783c",
   "metadata": {},
   "outputs": [
    {
     "data": {
      "text/plain": [
       "array(['Non-Tor', 'NonVPN', 'Tor', 'VPN'], dtype=object)"
      ]
     },
     "execution_count": 98,
     "metadata": {},
     "output_type": "execute_result"
    }
   ],
   "source": [
    "data['Label'].unique()"
   ]
  },
  {
   "cell_type": "markdown",
   "id": "9bb6ca66-2877-4e30-9e76-df909b3a2715",
   "metadata": {},
   "source": [
    "# 4. Traitement Des Data "
   ]
  },
  {
   "cell_type": "code",
   "execution_count": 99,
   "id": "48d6b624-1dde-4edb-9e98-a172fdf33222",
   "metadata": {},
   "outputs": [],
   "source": [
    "# reduction à deux categories"
   ]
  },
  {
   "cell_type": "code",
   "execution_count": 100,
   "id": "8d308519-42d2-4a61-a246-7d6b62923f1b",
   "metadata": {},
   "outputs": [
    {
     "data": {
      "text/plain": [
       "array([0, 1])"
      ]
     },
     "execution_count": 100,
     "metadata": {},
     "output_type": "execute_result"
    }
   ],
   "source": [
    "data['labelfinal'] = data['Label'].apply(lambda x: 1 if x in ['Tor','VPN'] else 0)\n",
    "data['labelfinal'].unique()"
   ]
  },
  {
   "cell_type": "code",
   "execution_count": 101,
   "id": "b16fb6d7-bf19-4f4f-abd0-c25cb4026369",
   "metadata": {},
   "outputs": [
    {
     "data": {
      "text/html": [
       "<div>\n",
       "<style scoped>\n",
       "    .dataframe tbody tr th:only-of-type {\n",
       "        vertical-align: middle;\n",
       "    }\n",
       "\n",
       "    .dataframe tbody tr th {\n",
       "        vertical-align: top;\n",
       "    }\n",
       "\n",
       "    .dataframe thead th {\n",
       "        text-align: right;\n",
       "    }\n",
       "</style>\n",
       "<table border=\"1\" class=\"dataframe\">\n",
       "  <thead>\n",
       "    <tr style=\"text-align: right;\">\n",
       "      <th></th>\n",
       "      <th>Flow ID</th>\n",
       "      <th>Src IP</th>\n",
       "      <th>Src Port</th>\n",
       "      <th>Dst IP</th>\n",
       "      <th>Dst Port</th>\n",
       "      <th>Protocol</th>\n",
       "      <th>Timestamp</th>\n",
       "      <th>Flow Duration</th>\n",
       "      <th>Total Fwd Packet</th>\n",
       "      <th>Total Bwd packets</th>\n",
       "      <th>...</th>\n",
       "      <th>Active Std</th>\n",
       "      <th>Active Max</th>\n",
       "      <th>Active Min</th>\n",
       "      <th>Idle Mean</th>\n",
       "      <th>Idle Std</th>\n",
       "      <th>Idle Max</th>\n",
       "      <th>Idle Min</th>\n",
       "      <th>Label</th>\n",
       "      <th>Label.1</th>\n",
       "      <th>labelfinal</th>\n",
       "    </tr>\n",
       "  </thead>\n",
       "  <tbody>\n",
       "    <tr>\n",
       "      <th>0</th>\n",
       "      <td>10.152.152.11-216.58.220.99-57158-443-6</td>\n",
       "      <td>10.152.152.11</td>\n",
       "      <td>57158</td>\n",
       "      <td>216.58.220.99</td>\n",
       "      <td>443</td>\n",
       "      <td>6</td>\n",
       "      <td>7/24/2015 16:09</td>\n",
       "      <td>229</td>\n",
       "      <td>1</td>\n",
       "      <td>1</td>\n",
       "      <td>...</td>\n",
       "      <td>0</td>\n",
       "      <td>0</td>\n",
       "      <td>0</td>\n",
       "      <td>0.0</td>\n",
       "      <td>0.0</td>\n",
       "      <td>0.0</td>\n",
       "      <td>0.0</td>\n",
       "      <td>Non-Tor</td>\n",
       "      <td>AUDIO-STREAMING</td>\n",
       "      <td>0</td>\n",
       "    </tr>\n",
       "  </tbody>\n",
       "</table>\n",
       "<p>1 rows × 86 columns</p>\n",
       "</div>"
      ],
      "text/plain": [
       "                                   Flow ID         Src IP  Src Port  \\\n",
       "0  10.152.152.11-216.58.220.99-57158-443-6  10.152.152.11     57158   \n",
       "\n",
       "          Dst IP  Dst Port  Protocol        Timestamp  Flow Duration  \\\n",
       "0  216.58.220.99       443         6  7/24/2015 16:09            229   \n",
       "\n",
       "   Total Fwd Packet  Total Bwd packets  ...  Active Std  Active Max  \\\n",
       "0                 1                  1  ...           0           0   \n",
       "\n",
       "   Active Min  Idle Mean  Idle Std  Idle Max  Idle Min    Label  \\\n",
       "0           0        0.0       0.0       0.0       0.0  Non-Tor   \n",
       "\n",
       "           Label.1  labelfinal  \n",
       "0  AUDIO-STREAMING           0  \n",
       "\n",
       "[1 rows x 86 columns]"
      ]
     },
     "execution_count": 101,
     "metadata": {},
     "output_type": "execute_result"
    }
   ],
   "source": [
    "data.head(1)"
   ]
  },
  {
   "cell_type": "code",
   "execution_count": 102,
   "id": "7d6ed952-227d-4868-9046-6b68eb5f84be",
   "metadata": {},
   "outputs": [],
   "source": [
    "# mapping de label 1 "
   ]
  },
  {
   "cell_type": "code",
   "execution_count": 103,
   "id": "da789aaf-626a-4c5d-ab79-912651e3927d",
   "metadata": {},
   "outputs": [
    {
     "data": {
      "text/plain": [
       "array([ 0,  1,  2,  3,  4,  5,  6,  7,  8,  9, 10])"
      ]
     },
     "execution_count": 103,
     "metadata": {},
     "output_type": "execute_result"
    }
   ],
   "source": [
    "Mapping_lab1 ={\n",
    "    'AUDIO-STREAMING':0,\n",
    "    'Browsing': 1,\n",
    "    'Chat':2,\n",
    "    'Email':3,\n",
    "    'File-Transfer' :4,\n",
    "    'File-transfer' : 5,\n",
    "    'P2P' : 6,\n",
    "    'Video-Streaming' : 7,\n",
    "    'Audio-Streaming':8,\n",
    "    'Video-streaming':9,\n",
    "     'VOIP':10\n",
    "}\n",
    "data['Label.1']= data['Label.1'].map(Mapping_lab1)\n",
    "data['Label.1'].unique()\n",
    "\n",
    "\n",
    "    "
   ]
  },
  {
   "cell_type": "code",
   "execution_count": 104,
   "id": "cee275a0-e6f7-4120-ba45-fc16b4858423",
   "metadata": {},
   "outputs": [],
   "source": [
    "# suppression des colonnes inutiles \n",
    "#data.info()"
   ]
  },
  {
   "cell_type": "code",
   "execution_count": 105,
   "id": "4c862b8e-8dc2-4d33-8e60-27520288ca23",
   "metadata": {},
   "outputs": [
    {
     "name": "stdout",
     "output_type": "stream",
     "text": [
      "<class 'pandas.core.frame.DataFrame'>\n",
      "RangeIndex: 141530 entries, 0 to 141529\n",
      "Data columns (total 81 columns):\n",
      " #   Column                      Non-Null Count   Dtype  \n",
      "---  ------                      --------------   -----  \n",
      " 0   Src Port                    141530 non-null  int64  \n",
      " 1   Dst Port                    141530 non-null  int64  \n",
      " 2   Protocol                    141530 non-null  int64  \n",
      " 3   Flow Duration               141530 non-null  int64  \n",
      " 4   Total Fwd Packet            141530 non-null  int64  \n",
      " 5   Total Bwd packets           141530 non-null  int64  \n",
      " 6   Total Length of Fwd Packet  141530 non-null  int64  \n",
      " 7   Total Length of Bwd Packet  141530 non-null  int64  \n",
      " 8   Fwd Packet Length Max       141530 non-null  int64  \n",
      " 9   Fwd Packet Length Min       141530 non-null  int64  \n",
      " 10  Fwd Packet Length Mean      141530 non-null  float64\n",
      " 11  Fwd Packet Length Std       141530 non-null  float64\n",
      " 12  Bwd Packet Length Max       141530 non-null  int64  \n",
      " 13  Bwd Packet Length Min       141530 non-null  int64  \n",
      " 14  Bwd Packet Length Mean      141530 non-null  float64\n",
      " 15  Bwd Packet Length Std       141530 non-null  float64\n",
      " 16  Flow Bytes/s                141483 non-null  float64\n",
      " 17  Flow Packets/s              141530 non-null  float64\n",
      " 18  Flow IAT Mean               141530 non-null  float64\n",
      " 19  Flow IAT Std                141530 non-null  float64\n",
      " 20  Flow IAT Max                141530 non-null  int64  \n",
      " 21  Flow IAT Min                141530 non-null  int64  \n",
      " 22  Fwd IAT Total               141530 non-null  int64  \n",
      " 23  Fwd IAT Mean                141530 non-null  float64\n",
      " 24  Fwd IAT Std                 141530 non-null  float64\n",
      " 25  Fwd IAT Max                 141530 non-null  int64  \n",
      " 26  Fwd IAT Min                 141530 non-null  int64  \n",
      " 27  Bwd IAT Total               141530 non-null  int64  \n",
      " 28  Bwd IAT Mean                141530 non-null  float64\n",
      " 29  Bwd IAT Std                 141530 non-null  float64\n",
      " 30  Bwd IAT Max                 141530 non-null  int64  \n",
      " 31  Bwd IAT Min                 141530 non-null  int64  \n",
      " 32  Fwd PSH Flags               141530 non-null  int64  \n",
      " 33  Bwd PSH Flags               141530 non-null  int64  \n",
      " 34  Fwd URG Flags               141530 non-null  int64  \n",
      " 35  Bwd URG Flags               141530 non-null  int64  \n",
      " 36  Fwd Header Length           141530 non-null  int64  \n",
      " 37  Bwd Header Length           141530 non-null  int64  \n",
      " 38  Fwd Packets/s               141530 non-null  float64\n",
      " 39  Bwd Packets/s               141530 non-null  float64\n",
      " 40  Packet Length Min           141530 non-null  int64  \n",
      " 41  Packet Length Max           141530 non-null  int64  \n",
      " 42  Packet Length Mean          141530 non-null  float64\n",
      " 43  Packet Length Std           141530 non-null  float64\n",
      " 44  Packet Length Variance      141530 non-null  float64\n",
      " 45  FIN Flag Count              141530 non-null  int64  \n",
      " 46  SYN Flag Count              141530 non-null  int64  \n",
      " 47  RST Flag Count              141530 non-null  int64  \n",
      " 48  PSH Flag Count              141530 non-null  int64  \n",
      " 49  ACK Flag Count              141530 non-null  int64  \n",
      " 50  URG Flag Count              141530 non-null  int64  \n",
      " 51  CWE Flag Count              141530 non-null  int64  \n",
      " 52  ECE Flag Count              141530 non-null  int64  \n",
      " 53  Down/Up Ratio               141530 non-null  int64  \n",
      " 54  Average Packet Size         141530 non-null  float64\n",
      " 55  Fwd Segment Size Avg        141530 non-null  float64\n",
      " 56  Bwd Segment Size Avg        141530 non-null  float64\n",
      " 57  Fwd Bytes/Bulk Avg          141530 non-null  int64  \n",
      " 58  Fwd Packet/Bulk Avg         141530 non-null  int64  \n",
      " 59  Fwd Bulk Rate Avg           141530 non-null  int64  \n",
      " 60  Bwd Bytes/Bulk Avg          141530 non-null  int64  \n",
      " 61  Bwd Packet/Bulk Avg         141530 non-null  int64  \n",
      " 62  Bwd Bulk Rate Avg           141530 non-null  int64  \n",
      " 63  Subflow Fwd Packets         141530 non-null  int64  \n",
      " 64  Subflow Fwd Bytes           141530 non-null  int64  \n",
      " 65  Subflow Bwd Packets         141530 non-null  int64  \n",
      " 66  Subflow Bwd Bytes           141530 non-null  int64  \n",
      " 67  FWD Init Win Bytes          141530 non-null  int64  \n",
      " 68  Bwd Init Win Bytes          141530 non-null  int64  \n",
      " 69  Fwd Act Data Pkts           141530 non-null  int64  \n",
      " 70  Fwd Seg Size Min            141530 non-null  int64  \n",
      " 71  Active Mean                 141530 non-null  int64  \n",
      " 72  Active Std                  141530 non-null  int64  \n",
      " 73  Active Max                  141530 non-null  int64  \n",
      " 74  Active Min                  141530 non-null  int64  \n",
      " 75  Idle Mean                   141530 non-null  float64\n",
      " 76  Idle Std                    141530 non-null  float64\n",
      " 77  Idle Max                    141530 non-null  float64\n",
      " 78  Idle Min                    141530 non-null  float64\n",
      " 79  Label.1                     141530 non-null  int64  \n",
      " 80  labelfinal                  141530 non-null  int64  \n",
      "dtypes: float64(24), int64(57)\n",
      "memory usage: 87.5 MB\n"
     ]
    }
   ],
   "source": [
    "data.drop(columns = ['Flow ID', 'Src IP', 'Dst IP', 'Timestamp', 'Label'], inplace = True, axis = 1)\n",
    "data.info()"
   ]
  },
  {
   "cell_type": "markdown",
   "id": "7f1c9f5a-1790-4089-92cf-3454a8d88324",
   "metadata": {},
   "source": [
    "# 5. Division Des Données "
   ]
  },
  {
   "cell_type": "code",
   "execution_count": 106,
   "id": "4504b806-fd55-42a3-a551-1b4c9aae4490",
   "metadata": {},
   "outputs": [
    {
     "name": "stdout",
     "output_type": "stream",
     "text": [
      "le x_train shape est : (113224, 80)\n",
      "le x_test shape est : (113224,)\n",
      "le y_train shape est : (28306, 80)\n",
      "le y_test shape est : (28306,)\n"
     ]
    }
   ],
   "source": [
    "X = data.iloc[ : , :-1]\n",
    "y = data.iloc[ : , -1]\n",
    "x_train, x_test, y_train, y_test = train_test_split(X, y , test_size = 0.2 , random_state= 40)\n",
    "\n",
    "print (\"le x_train shape est :\", x_train.shape)\n",
    "print (\"le x_test shape est :\", y_train.shape)\n",
    "print (\"le y_train shape est :\", x_test.shape)\n",
    "print (\"le y_test shape est :\", y_test.shape)\n",
    "\n"
   ]
  },
  {
   "cell_type": "code",
   "execution_count": 107,
   "id": "70f95537-e49d-4e4d-bdf7-fbd6a9ca8c09",
   "metadata": {},
   "outputs": [],
   "source": [
    "# standardisation des data\n",
    "#scaler = StandardScaler()"
   ]
  },
  {
   "cell_type": "code",
   "execution_count": 108,
   "id": "b9907e81-df8d-46a9-a0de-3309a66f891b",
   "metadata": {},
   "outputs": [
    {
     "data": {
      "text/plain": [
       "(113224, 80)"
      ]
     },
     "execution_count": 108,
     "metadata": {},
     "output_type": "execute_result"
    }
   ],
   "source": [
    "#x_train = scaler.fit_transform(x_train)\n",
    "#x_test = scaler.fit_transform(x_test)\n",
    "x_train.shape\n",
    "\n"
   ]
  },
  {
   "cell_type": "markdown",
   "id": "b78b3bb8-f7f2-4f8c-94bb-79eeb05d8248",
   "metadata": {},
   "source": [
    "# 6. Construction Du SNN"
   ]
  },
  {
   "cell_type": "code",
   "execution_count": 109,
   "id": "96d16d02-f642-4c91-9601-111880104480",
   "metadata": {},
   "outputs": [],
   "source": [
    "model_snn = Sequential()"
   ]
  },
  {
   "cell_type": "code",
   "execution_count": 110,
   "id": "59bd7f16-1a91-4352-824c-edbb76bc604b",
   "metadata": {},
   "outputs": [
    {
     "data": {
      "text/html": [
       "<pre style=\"white-space:pre;overflow-x:auto;line-height:normal;font-family:Menlo,'DejaVu Sans Mono',consolas,'Courier New',monospace\"><span style=\"font-weight: bold\">Model: \"sequential_4\"</span>\n",
       "</pre>\n"
      ],
      "text/plain": [
       "\u001b[1mModel: \"sequential_4\"\u001b[0m\n"
      ]
     },
     "metadata": {},
     "output_type": "display_data"
    },
    {
     "data": {
      "text/html": [
       "<pre style=\"white-space:pre;overflow-x:auto;line-height:normal;font-family:Menlo,'DejaVu Sans Mono',consolas,'Courier New',monospace\">┏━━━━━━━━━━━━━━━━━━━━━━━━━━━━━━━━━┳━━━━━━━━━━━━━━━━━━━━━━━━┳━━━━━━━━━━━━━━━┓\n",
       "┃<span style=\"font-weight: bold\"> Layer (type)                    </span>┃<span style=\"font-weight: bold\"> Output Shape           </span>┃<span style=\"font-weight: bold\">       Param # </span>┃\n",
       "┡━━━━━━━━━━━━━━━━━━━━━━━━━━━━━━━━━╇━━━━━━━━━━━━━━━━━━━━━━━━╇━━━━━━━━━━━━━━━┩\n",
       "│ dense_8 (<span style=\"color: #0087ff; text-decoration-color: #0087ff\">Dense</span>)                 │ (<span style=\"color: #00d7ff; text-decoration-color: #00d7ff\">None</span>, <span style=\"color: #00af00; text-decoration-color: #00af00\">64</span>)             │         <span style=\"color: #00af00; text-decoration-color: #00af00\">5,184</span> │\n",
       "├─────────────────────────────────┼────────────────────────┼───────────────┤\n",
       "│ dense_9 (<span style=\"color: #0087ff; text-decoration-color: #0087ff\">Dense</span>)                 │ (<span style=\"color: #00d7ff; text-decoration-color: #00d7ff\">None</span>, <span style=\"color: #00af00; text-decoration-color: #00af00\">1</span>)              │            <span style=\"color: #00af00; text-decoration-color: #00af00\">65</span> │\n",
       "└─────────────────────────────────┴────────────────────────┴───────────────┘\n",
       "</pre>\n"
      ],
      "text/plain": [
       "┏━━━━━━━━━━━━━━━━━━━━━━━━━━━━━━━━━┳━━━━━━━━━━━━━━━━━━━━━━━━┳━━━━━━━━━━━━━━━┓\n",
       "┃\u001b[1m \u001b[0m\u001b[1mLayer (type)                   \u001b[0m\u001b[1m \u001b[0m┃\u001b[1m \u001b[0m\u001b[1mOutput Shape          \u001b[0m\u001b[1m \u001b[0m┃\u001b[1m \u001b[0m\u001b[1m      Param #\u001b[0m\u001b[1m \u001b[0m┃\n",
       "┡━━━━━━━━━━━━━━━━━━━━━━━━━━━━━━━━━╇━━━━━━━━━━━━━━━━━━━━━━━━╇━━━━━━━━━━━━━━━┩\n",
       "│ dense_8 (\u001b[38;5;33mDense\u001b[0m)                 │ (\u001b[38;5;45mNone\u001b[0m, \u001b[38;5;34m64\u001b[0m)             │         \u001b[38;5;34m5,184\u001b[0m │\n",
       "├─────────────────────────────────┼────────────────────────┼───────────────┤\n",
       "│ dense_9 (\u001b[38;5;33mDense\u001b[0m)                 │ (\u001b[38;5;45mNone\u001b[0m, \u001b[38;5;34m1\u001b[0m)              │            \u001b[38;5;34m65\u001b[0m │\n",
       "└─────────────────────────────────┴────────────────────────┴───────────────┘\n"
      ]
     },
     "metadata": {},
     "output_type": "display_data"
    },
    {
     "data": {
      "text/html": [
       "<pre style=\"white-space:pre;overflow-x:auto;line-height:normal;font-family:Menlo,'DejaVu Sans Mono',consolas,'Courier New',monospace\"><span style=\"font-weight: bold\"> Total params: </span><span style=\"color: #00af00; text-decoration-color: #00af00\">5,249</span> (20.50 KB)\n",
       "</pre>\n"
      ],
      "text/plain": [
       "\u001b[1m Total params: \u001b[0m\u001b[38;5;34m5,249\u001b[0m (20.50 KB)\n"
      ]
     },
     "metadata": {},
     "output_type": "display_data"
    },
    {
     "data": {
      "text/html": [
       "<pre style=\"white-space:pre;overflow-x:auto;line-height:normal;font-family:Menlo,'DejaVu Sans Mono',consolas,'Courier New',monospace\"><span style=\"font-weight: bold\"> Trainable params: </span><span style=\"color: #00af00; text-decoration-color: #00af00\">5,249</span> (20.50 KB)\n",
       "</pre>\n"
      ],
      "text/plain": [
       "\u001b[1m Trainable params: \u001b[0m\u001b[38;5;34m5,249\u001b[0m (20.50 KB)\n"
      ]
     },
     "metadata": {},
     "output_type": "display_data"
    },
    {
     "data": {
      "text/html": [
       "<pre style=\"white-space:pre;overflow-x:auto;line-height:normal;font-family:Menlo,'DejaVu Sans Mono',consolas,'Courier New',monospace\"><span style=\"font-weight: bold\"> Non-trainable params: </span><span style=\"color: #00af00; text-decoration-color: #00af00\">0</span> (0.00 B)\n",
       "</pre>\n"
      ],
      "text/plain": [
       "\u001b[1m Non-trainable params: \u001b[0m\u001b[38;5;34m0\u001b[0m (0.00 B)\n"
      ]
     },
     "metadata": {},
     "output_type": "display_data"
    }
   ],
   "source": [
    "# ajout de la couche \n",
    "\n",
    "model_snn.add(Dense(64, input_shape = (80,), activation='relu'))\n",
    "\n",
    "# ajout de la couche de sortie\n",
    "# la couche de sorti prend comme dimmension le nombre de colonne \n",
    "model_snn.add(Dense(1, input_shape = (1,), activation =  'sigmoid'))\n",
    "\n",
    "# compiler le modele \n",
    "\n",
    "model_snn.compile(optimizer='Adam', loss = 'binary_crossentropy', metrics = ['accuracy'])\n",
    "\n",
    "model_snn.summary()"
   ]
  },
  {
   "cell_type": "code",
   "execution_count": null,
   "id": "a5dddf5b-cdd3-4e26-b2a5-dedd0fead578",
   "metadata": {},
   "outputs": [
    {
     "name": "stdout",
     "output_type": "stream",
     "text": [
      "Epoch 1/150\n",
      "\u001b[1m3539/3539\u001b[0m \u001b[32m━━━━━━━━━━━━━━━━━━━━\u001b[0m\u001b[37m\u001b[0m \u001b[1m5s\u001b[0m 1ms/step - accuracy: 0.8117 - loss: 3573921611776.0000 - val_accuracy: 0.8279 - val_loss: 0.4595\n",
      "Epoch 2/150\n",
      "\u001b[1m3539/3539\u001b[0m \u001b[32m━━━━━━━━━━━━━━━━━━━━\u001b[0m\u001b[37m\u001b[0m \u001b[1m5s\u001b[0m 1ms/step - accuracy: 0.8281 - loss: 0.4590 - val_accuracy: 0.8279 - val_loss: 0.4592\n",
      "Epoch 3/150\n",
      "\u001b[1m3539/3539\u001b[0m \u001b[32m━━━━━━━━━━━━━━━━━━━━\u001b[0m\u001b[37m\u001b[0m \u001b[1m4s\u001b[0m 1ms/step - accuracy: 0.8273 - loss: 0.4601 - val_accuracy: 0.8279 - val_loss: 0.4592\n",
      "Epoch 4/150\n",
      "\u001b[1m3539/3539\u001b[0m \u001b[32m━━━━━━━━━━━━━━━━━━━━\u001b[0m\u001b[37m\u001b[0m \u001b[1m4s\u001b[0m 1ms/step - accuracy: 0.8276 - loss: 0.4597 - val_accuracy: 0.8279 - val_loss: 0.4592\n",
      "Epoch 5/150\n",
      "\u001b[1m3539/3539\u001b[0m \u001b[32m━━━━━━━━━━━━━━━━━━━━\u001b[0m\u001b[37m\u001b[0m \u001b[1m5s\u001b[0m 1ms/step - accuracy: 0.8270 - loss: 0.4607 - val_accuracy: 0.8279 - val_loss: 0.4592\n",
      "Epoch 6/150\n",
      "\u001b[1m3539/3539\u001b[0m \u001b[32m━━━━━━━━━━━━━━━━━━━━\u001b[0m\u001b[37m\u001b[0m \u001b[1m4s\u001b[0m 1ms/step - accuracy: 0.8289 - loss: 0.4576 - val_accuracy: 0.8279 - val_loss: 0.4592\n",
      "Epoch 7/150\n",
      "\u001b[1m3539/3539\u001b[0m \u001b[32m━━━━━━━━━━━━━━━━━━━━\u001b[0m\u001b[37m\u001b[0m \u001b[1m4s\u001b[0m 1ms/step - accuracy: 0.8273 - loss: 0.4601 - val_accuracy: 0.8279 - val_loss: 0.4592\n",
      "Epoch 8/150\n",
      "\u001b[1m3539/3539\u001b[0m \u001b[32m━━━━━━━━━━━━━━━━━━━━\u001b[0m\u001b[37m\u001b[0m \u001b[1m4s\u001b[0m 1ms/step - accuracy: 0.8282 - loss: 0.4587 - val_accuracy: 0.8279 - val_loss: 0.4592\n",
      "Epoch 9/150\n",
      "\u001b[1m3539/3539\u001b[0m \u001b[32m━━━━━━━━━━━━━━━━━━━━\u001b[0m\u001b[37m\u001b[0m \u001b[1m5s\u001b[0m 1ms/step - accuracy: 0.8296 - loss: 0.4566 - val_accuracy: 0.8279 - val_loss: 0.4592\n",
      "Epoch 10/150\n",
      "\u001b[1m3539/3539\u001b[0m \u001b[32m━━━━━━━━━━━━━━━━━━━━\u001b[0m\u001b[37m\u001b[0m \u001b[1m4s\u001b[0m 1ms/step - accuracy: 0.8285 - loss: 0.4582 - val_accuracy: 0.8279 - val_loss: 0.4592\n",
      "Epoch 11/150\n",
      "\u001b[1m3539/3539\u001b[0m \u001b[32m━━━━━━━━━━━━━━━━━━━━\u001b[0m\u001b[37m\u001b[0m \u001b[1m4s\u001b[0m 1ms/step - accuracy: 0.8279 - loss: 0.4592 - val_accuracy: 0.8279 - val_loss: 0.4592\n",
      "Epoch 12/150\n",
      "\u001b[1m3539/3539\u001b[0m \u001b[32m━━━━━━━━━━━━━━━━━━━━\u001b[0m\u001b[37m\u001b[0m \u001b[1m4s\u001b[0m 1ms/step - accuracy: 0.8284 - loss: 0.4584 - val_accuracy: 0.8279 - val_loss: 0.4592\n",
      "Epoch 13/150\n",
      "\u001b[1m3539/3539\u001b[0m \u001b[32m━━━━━━━━━━━━━━━━━━━━\u001b[0m\u001b[37m\u001b[0m \u001b[1m4s\u001b[0m 1ms/step - accuracy: 0.8285 - loss: 0.4583 - val_accuracy: 0.8279 - val_loss: 0.4592\n",
      "Epoch 14/150\n",
      "\u001b[1m3539/3539\u001b[0m \u001b[32m━━━━━━━━━━━━━━━━━━━━\u001b[0m\u001b[37m\u001b[0m \u001b[1m4s\u001b[0m 1ms/step - accuracy: 0.8298 - loss: 0.4563 - val_accuracy: 0.8279 - val_loss: 0.4592\n",
      "Epoch 15/150\n",
      "\u001b[1m3539/3539\u001b[0m \u001b[32m━━━━━━━━━━━━━━━━━━━━\u001b[0m\u001b[37m\u001b[0m \u001b[1m4s\u001b[0m 1ms/step - accuracy: 0.8270 - loss: 0.4606 - val_accuracy: 0.8279 - val_loss: 0.4593\n",
      "Epoch 16/150\n",
      "\u001b[1m3539/3539\u001b[0m \u001b[32m━━━━━━━━━━━━━━━━━━━━\u001b[0m\u001b[37m\u001b[0m \u001b[1m4s\u001b[0m 1ms/step - accuracy: 0.8287 - loss: 0.4579 - val_accuracy: 0.8279 - val_loss: 0.4592\n",
      "Epoch 17/150\n",
      "\u001b[1m3539/3539\u001b[0m \u001b[32m━━━━━━━━━━━━━━━━━━━━\u001b[0m\u001b[37m\u001b[0m \u001b[1m4s\u001b[0m 1ms/step - accuracy: 0.8304 - loss: 0.4554 - val_accuracy: 0.8279 - val_loss: 0.4593\n",
      "Epoch 18/150\n",
      "\u001b[1m3539/3539\u001b[0m \u001b[32m━━━━━━━━━━━━━━━━━━━━\u001b[0m\u001b[37m\u001b[0m \u001b[1m4s\u001b[0m 1ms/step - accuracy: 0.8282 - loss: 0.4588 - val_accuracy: 0.8279 - val_loss: 0.4592\n",
      "Epoch 19/150\n",
      "\u001b[1m3539/3539\u001b[0m \u001b[32m━━━━━━━━━━━━━━━━━━━━\u001b[0m\u001b[37m\u001b[0m \u001b[1m4s\u001b[0m 1ms/step - accuracy: 0.8281 - loss: 0.4590 - val_accuracy: 0.8279 - val_loss: 0.4592\n",
      "Epoch 20/150\n",
      "\u001b[1m3539/3539\u001b[0m \u001b[32m━━━━━━━━━━━━━━━━━━━━\u001b[0m\u001b[37m\u001b[0m \u001b[1m4s\u001b[0m 1ms/step - accuracy: 0.8270 - loss: 0.4607 - val_accuracy: 0.8279 - val_loss: 0.4593\n",
      "Epoch 21/150\n",
      "\u001b[1m3539/3539\u001b[0m \u001b[32m━━━━━━━━━━━━━━━━━━━━\u001b[0m\u001b[37m\u001b[0m \u001b[1m4s\u001b[0m 1ms/step - accuracy: 0.8282 - loss: 0.4587 - val_accuracy: 0.8279 - val_loss: 0.4593\n",
      "Epoch 22/150\n",
      "\u001b[1m3539/3539\u001b[0m \u001b[32m━━━━━━━━━━━━━━━━━━━━\u001b[0m\u001b[37m\u001b[0m \u001b[1m4s\u001b[0m 1ms/step - accuracy: 0.8275 - loss: 0.4599 - val_accuracy: 0.8279 - val_loss: 0.4592\n",
      "Epoch 23/150\n",
      "\u001b[1m3539/3539\u001b[0m \u001b[32m━━━━━━━━━━━━━━━━━━━━\u001b[0m\u001b[37m\u001b[0m \u001b[1m5s\u001b[0m 1ms/step - accuracy: 0.8282 - loss: 0.4588 - val_accuracy: 0.8279 - val_loss: 0.4593\n",
      "Epoch 24/150\n",
      "\u001b[1m3539/3539\u001b[0m \u001b[32m━━━━━━━━━━━━━━━━━━━━\u001b[0m\u001b[37m\u001b[0m \u001b[1m4s\u001b[0m 1ms/step - accuracy: 0.8280 - loss: 0.4590 - val_accuracy: 0.8279 - val_loss: 0.4592\n",
      "Epoch 25/150\n",
      "\u001b[1m3539/3539\u001b[0m \u001b[32m━━━━━━━━━━━━━━━━━━━━\u001b[0m\u001b[37m\u001b[0m \u001b[1m4s\u001b[0m 1ms/step - accuracy: 0.8267 - loss: 0.4611 - val_accuracy: 0.8279 - val_loss: 0.4592\n",
      "Epoch 26/150\n",
      "\u001b[1m3539/3539\u001b[0m \u001b[32m━━━━━━━━━━━━━━━━━━━━\u001b[0m\u001b[37m\u001b[0m \u001b[1m4s\u001b[0m 1ms/step - accuracy: 0.8277 - loss: 0.4596 - val_accuracy: 0.8279 - val_loss: 0.4593\n",
      "Epoch 27/150\n",
      "\u001b[1m3539/3539\u001b[0m \u001b[32m━━━━━━━━━━━━━━━━━━━━\u001b[0m\u001b[37m\u001b[0m \u001b[1m4s\u001b[0m 1ms/step - accuracy: 0.8281 - loss: 0.4589 - val_accuracy: 0.8279 - val_loss: 0.4593\n",
      "Epoch 28/150\n",
      "\u001b[1m3539/3539\u001b[0m \u001b[32m━━━━━━━━━━━━━━━━━━━━\u001b[0m\u001b[37m\u001b[0m \u001b[1m4s\u001b[0m 1ms/step - accuracy: 0.8291 - loss: 0.4574 - val_accuracy: 0.8279 - val_loss: 0.4592\n",
      "Epoch 29/150\n",
      "\u001b[1m3539/3539\u001b[0m \u001b[32m━━━━━━━━━━━━━━━━━━━━\u001b[0m\u001b[37m\u001b[0m \u001b[1m4s\u001b[0m 1ms/step - accuracy: 0.8275 - loss: 0.4598 - val_accuracy: 0.8279 - val_loss: 0.4592\n",
      "Epoch 30/150\n",
      "\u001b[1m3539/3539\u001b[0m \u001b[32m━━━━━━━━━━━━━━━━━━━━\u001b[0m\u001b[37m\u001b[0m \u001b[1m4s\u001b[0m 1ms/step - accuracy: 0.8285 - loss: 0.4583 - val_accuracy: 0.8279 - val_loss: 0.4592\n",
      "Epoch 31/150\n",
      "\u001b[1m3539/3539\u001b[0m \u001b[32m━━━━━━━━━━━━━━━━━━━━\u001b[0m\u001b[37m\u001b[0m \u001b[1m4s\u001b[0m 1ms/step - accuracy: 0.8271 - loss: 0.4605 - val_accuracy: 0.8279 - val_loss: 0.4592\n",
      "Epoch 32/150\n",
      "\u001b[1m3539/3539\u001b[0m \u001b[32m━━━━━━━━━━━━━━━━━━━━\u001b[0m\u001b[37m\u001b[0m \u001b[1m4s\u001b[0m 1ms/step - accuracy: 0.8291 - loss: 0.4573 - val_accuracy: 0.8279 - val_loss: 0.4592\n",
      "Epoch 33/150\n",
      "\u001b[1m3539/3539\u001b[0m \u001b[32m━━━━━━━━━━━━━━━━━━━━\u001b[0m\u001b[37m\u001b[0m \u001b[1m4s\u001b[0m 1ms/step - accuracy: 0.8294 - loss: 0.4568 - val_accuracy: 0.8279 - val_loss: 0.4593\n",
      "Epoch 34/150\n",
      "\u001b[1m3539/3539\u001b[0m \u001b[32m━━━━━━━━━━━━━━━━━━━━\u001b[0m\u001b[37m\u001b[0m \u001b[1m4s\u001b[0m 1ms/step - accuracy: 0.8286 - loss: 0.4581 - val_accuracy: 0.8279 - val_loss: 0.4592\n",
      "Epoch 35/150\n",
      "\u001b[1m3539/3539\u001b[0m \u001b[32m━━━━━━━━━━━━━━━━━━━━\u001b[0m\u001b[37m\u001b[0m \u001b[1m4s\u001b[0m 1ms/step - accuracy: 0.8268 - loss: 0.4609 - val_accuracy: 0.8279 - val_loss: 0.4592\n",
      "Epoch 36/150\n",
      "\u001b[1m3539/3539\u001b[0m \u001b[32m━━━━━━━━━━━━━━━━━━━━\u001b[0m\u001b[37m\u001b[0m \u001b[1m4s\u001b[0m 1ms/step - accuracy: 0.8296 - loss: 0.4565 - val_accuracy: 0.8279 - val_loss: 0.4592\n",
      "Epoch 37/150\n",
      "\u001b[1m3539/3539\u001b[0m \u001b[32m━━━━━━━━━━━━━━━━━━━━\u001b[0m\u001b[37m\u001b[0m \u001b[1m4s\u001b[0m 1ms/step - accuracy: 0.8282 - loss: 0.4588 - val_accuracy: 0.8279 - val_loss: 0.4593\n",
      "Epoch 38/150\n",
      "\u001b[1m3539/3539\u001b[0m \u001b[32m━━━━━━━━━━━━━━━━━━━━\u001b[0m\u001b[37m\u001b[0m \u001b[1m4s\u001b[0m 1ms/step - accuracy: 0.8264 - loss: 0.4616 - val_accuracy: 0.8279 - val_loss: 0.4592\n",
      "Epoch 39/150\n",
      "\u001b[1m3539/3539\u001b[0m \u001b[32m━━━━━━━━━━━━━━━━━━━━\u001b[0m\u001b[37m\u001b[0m \u001b[1m4s\u001b[0m 1ms/step - accuracy: 0.8280 - loss: 0.4590 - val_accuracy: 0.8279 - val_loss: 0.4592\n",
      "Epoch 40/150\n",
      "\u001b[1m3539/3539\u001b[0m \u001b[32m━━━━━━━━━━━━━━━━━━━━\u001b[0m\u001b[37m\u001b[0m \u001b[1m4s\u001b[0m 1ms/step - accuracy: 0.8296 - loss: 0.4566 - val_accuracy: 0.8279 - val_loss: 0.4593\n",
      "Epoch 41/150\n",
      "\u001b[1m3539/3539\u001b[0m \u001b[32m━━━━━━━━━━━━━━━━━━━━\u001b[0m\u001b[37m\u001b[0m \u001b[1m5s\u001b[0m 1ms/step - accuracy: 0.8285 - loss: 0.4584 - val_accuracy: 0.8279 - val_loss: 0.4592\n",
      "Epoch 42/150\n",
      "\u001b[1m3539/3539\u001b[0m \u001b[32m━━━━━━━━━━━━━━━━━━━━\u001b[0m\u001b[37m\u001b[0m \u001b[1m4s\u001b[0m 1ms/step - accuracy: 0.8295 - loss: 0.4566 - val_accuracy: 0.8279 - val_loss: 0.4592\n",
      "Epoch 43/150\n",
      "\u001b[1m3539/3539\u001b[0m \u001b[32m━━━━━━━━━━━━━━━━━━━━\u001b[0m\u001b[37m\u001b[0m \u001b[1m4s\u001b[0m 1ms/step - accuracy: 0.8286 - loss: 0.4582 - val_accuracy: 0.8279 - val_loss: 0.4592\n",
      "Epoch 44/150\n",
      "\u001b[1m3539/3539\u001b[0m \u001b[32m━━━━━━━━━━━━━━━━━━━━\u001b[0m\u001b[37m\u001b[0m \u001b[1m4s\u001b[0m 1ms/step - accuracy: 0.8273 - loss: 0.4602 - val_accuracy: 0.8279 - val_loss: 0.4592\n",
      "Epoch 45/150\n",
      "\u001b[1m3539/3539\u001b[0m \u001b[32m━━━━━━━━━━━━━━━━━━━━\u001b[0m\u001b[37m\u001b[0m \u001b[1m4s\u001b[0m 1ms/step - accuracy: 0.8274 - loss: 0.4601 - val_accuracy: 0.8279 - val_loss: 0.4592\n",
      "Epoch 46/150\n",
      "\u001b[1m3539/3539\u001b[0m \u001b[32m━━━━━━━━━━━━━━━━━━━━\u001b[0m\u001b[37m\u001b[0m \u001b[1m5s\u001b[0m 1ms/step - accuracy: 0.8273 - loss: 0.4602 - val_accuracy: 0.8279 - val_loss: 0.4592\n",
      "Epoch 47/150\n",
      "\u001b[1m3539/3539\u001b[0m \u001b[32m━━━━━━━━━━━━━━━━━━━━\u001b[0m\u001b[37m\u001b[0m \u001b[1m4s\u001b[0m 1ms/step - accuracy: 0.8263 - loss: 0.4617 - val_accuracy: 0.8279 - val_loss: 0.4593\n",
      "Epoch 48/150\n",
      "\u001b[1m3539/3539\u001b[0m \u001b[32m━━━━━━━━━━━━━━━━━━━━\u001b[0m\u001b[37m\u001b[0m \u001b[1m5s\u001b[0m 1ms/step - accuracy: 0.8276 - loss: 0.4598 - val_accuracy: 0.8279 - val_loss: 0.4592\n",
      "Epoch 49/150\n",
      "\u001b[1m3539/3539\u001b[0m \u001b[32m━━━━━━━━━━━━━━━━━━━━\u001b[0m\u001b[37m\u001b[0m \u001b[1m5s\u001b[0m 1ms/step - accuracy: 0.8276 - loss: 0.4597 - val_accuracy: 0.8279 - val_loss: 0.4592\n",
      "Epoch 50/150\n",
      "\u001b[1m3539/3539\u001b[0m \u001b[32m━━━━━━━━━━━━━━━━━━━━\u001b[0m\u001b[37m\u001b[0m \u001b[1m4s\u001b[0m 1ms/step - accuracy: 0.8278 - loss: 0.4594 - val_accuracy: 0.8279 - val_loss: 0.4593\n",
      "Epoch 51/150\n",
      "\u001b[1m3539/3539\u001b[0m \u001b[32m━━━━━━━━━━━━━━━━━━━━\u001b[0m\u001b[37m\u001b[0m \u001b[1m4s\u001b[0m 1ms/step - accuracy: 0.8284 - loss: 0.4585 - val_accuracy: 0.8279 - val_loss: 0.4592\n",
      "Epoch 52/150\n",
      "\u001b[1m3539/3539\u001b[0m \u001b[32m━━━━━━━━━━━━━━━━━━━━\u001b[0m\u001b[37m\u001b[0m \u001b[1m5s\u001b[0m 1ms/step - accuracy: 0.8278 - loss: 0.4594 - val_accuracy: 0.8279 - val_loss: 0.4592\n",
      "Epoch 53/150\n",
      "\u001b[1m3539/3539\u001b[0m \u001b[32m━━━━━━━━━━━━━━━━━━━━\u001b[0m\u001b[37m\u001b[0m \u001b[1m5s\u001b[0m 1ms/step - accuracy: 0.8269 - loss: 0.4608 - val_accuracy: 0.8279 - val_loss: 0.4592\n",
      "Epoch 54/150\n",
      "\u001b[1m3539/3539\u001b[0m \u001b[32m━━━━━━━━━━━━━━━━━━━━\u001b[0m\u001b[37m\u001b[0m \u001b[1m4s\u001b[0m 1ms/step - accuracy: 0.8276 - loss: 0.4598 - val_accuracy: 0.8279 - val_loss: 0.4593\n",
      "Epoch 55/150\n",
      "\u001b[1m3539/3539\u001b[0m \u001b[32m━━━━━━━━━━━━━━━━━━━━\u001b[0m\u001b[37m\u001b[0m \u001b[1m4s\u001b[0m 1ms/step - accuracy: 0.8277 - loss: 0.4596 - val_accuracy: 0.8279 - val_loss: 0.4592\n",
      "Epoch 56/150\n",
      "\u001b[1m3539/3539\u001b[0m \u001b[32m━━━━━━━━━━━━━━━━━━━━\u001b[0m\u001b[37m\u001b[0m \u001b[1m4s\u001b[0m 1ms/step - accuracy: 0.8274 - loss: 0.4601 - val_accuracy: 0.8279 - val_loss: 0.4592\n",
      "Epoch 57/150\n",
      "\u001b[1m3539/3539\u001b[0m \u001b[32m━━━━━━━━━━━━━━━━━━━━\u001b[0m\u001b[37m\u001b[0m \u001b[1m4s\u001b[0m 1ms/step - accuracy: 0.8310 - loss: 0.4543 - val_accuracy: 0.8279 - val_loss: 0.4593\n",
      "Epoch 58/150\n",
      "\u001b[1m3539/3539\u001b[0m \u001b[32m━━━━━━━━━━━━━━━━━━━━\u001b[0m\u001b[37m\u001b[0m \u001b[1m4s\u001b[0m 1ms/step - accuracy: 0.8273 - loss: 0.4602 - val_accuracy: 0.8279 - val_loss: 0.4592\n",
      "Epoch 59/150\n",
      "\u001b[1m3539/3539\u001b[0m \u001b[32m━━━━━━━━━━━━━━━━━━━━\u001b[0m\u001b[37m\u001b[0m \u001b[1m4s\u001b[0m 1ms/step - accuracy: 0.8295 - loss: 0.4567 - val_accuracy: 0.8279 - val_loss: 0.4592\n",
      "Epoch 60/150\n",
      "\u001b[1m3539/3539\u001b[0m \u001b[32m━━━━━━━━━━━━━━━━━━━━\u001b[0m\u001b[37m\u001b[0m \u001b[1m5s\u001b[0m 1ms/step - accuracy: 0.8266 - loss: 0.4613 - val_accuracy: 0.8279 - val_loss: 0.4592\n",
      "Epoch 61/150\n",
      "\u001b[1m3539/3539\u001b[0m \u001b[32m━━━━━━━━━━━━━━━━━━━━\u001b[0m\u001b[37m\u001b[0m \u001b[1m4s\u001b[0m 1ms/step - accuracy: 0.8289 - loss: 0.4576 - val_accuracy: 0.8279 - val_loss: 0.4592\n",
      "Epoch 62/150\n",
      "\u001b[1m3539/3539\u001b[0m \u001b[32m━━━━━━━━━━━━━━━━━━━━\u001b[0m\u001b[37m\u001b[0m \u001b[1m4s\u001b[0m 1ms/step - accuracy: 0.8273 - loss: 0.4601 - val_accuracy: 0.8279 - val_loss: 0.4592\n",
      "Epoch 63/150\n",
      "\u001b[1m3539/3539\u001b[0m \u001b[32m━━━━━━━━━━━━━━━━━━━━\u001b[0m\u001b[37m\u001b[0m \u001b[1m4s\u001b[0m 1ms/step - accuracy: 0.8296 - loss: 0.4565 - val_accuracy: 0.8279 - val_loss: 0.4592\n",
      "Epoch 64/150\n",
      "\u001b[1m3539/3539\u001b[0m \u001b[32m━━━━━━━━━━━━━━━━━━━━\u001b[0m\u001b[37m\u001b[0m \u001b[1m4s\u001b[0m 1ms/step - accuracy: 0.8283 - loss: 0.4586 - val_accuracy: 0.8279 - val_loss: 0.4592\n",
      "Epoch 65/150\n",
      "\u001b[1m3539/3539\u001b[0m \u001b[32m━━━━━━━━━━━━━━━━━━━━\u001b[0m\u001b[37m\u001b[0m \u001b[1m4s\u001b[0m 1ms/step - accuracy: 0.8282 - loss: 0.4587 - val_accuracy: 0.8279 - val_loss: 0.4592\n",
      "Epoch 66/150\n",
      "\u001b[1m3539/3539\u001b[0m \u001b[32m━━━━━━━━━━━━━━━━━━━━\u001b[0m\u001b[37m\u001b[0m \u001b[1m4s\u001b[0m 1ms/step - accuracy: 0.8269 - loss: 0.4607 - val_accuracy: 0.8279 - val_loss: 0.4593\n",
      "Epoch 67/150\n",
      "\u001b[1m2461/3539\u001b[0m \u001b[32m━━━━━━━━━━━━━\u001b[0m\u001b[37m━━━━━━━\u001b[0m \u001b[1m1s\u001b[0m 1ms/step - accuracy: 0.8277 - loss: 0.4596  "
     ]
    }
   ],
   "source": [
    "# entrainnement du model \n",
    "history = model_snn.fit(x_train, y_train, epochs=150, verbose =1 , validation_data = (x_test, y_test))"
   ]
  },
  {
   "cell_type": "markdown",
   "id": "f2c363a9-61ed-42cc-8fbb-ffba33e55e0b",
   "metadata": {},
   "source": [
    "# 7. Avaluation Du Model "
   ]
  },
  {
   "cell_type": "code",
   "execution_count": null,
   "id": "db9c79f5-75e7-4147-889a-1bbb7aef07f0",
   "metadata": {},
   "outputs": [],
   "source": [
    "epoch_accuracy = history.history['accuracy']\n",
    "epoch_loss = history.history['loss']\n",
    "\n",
    "epoch_val_acc = history.history['val_accuracy']\n",
    "epoch_val_loss = history.history['val_loss']\n"
   ]
  },
  {
   "cell_type": "code",
   "execution_count": null,
   "id": "b3220b7f-a6a8-4833-b8f3-9766f0a0706e",
   "metadata": {},
   "outputs": [],
   "source": [
    "plt.figure(figsize=(15, 6))\n",
    "plt.plot(range(0, len(epoch_accuracy)), epoch_accuracy, color='blue', label='Training Accuracy')\n",
    "plt.plot(range(0, len(epoch_loss)), epoch_loss, color='red', label='Training Loss')\n",
    "plt.xlabel('Epochs')\n",
    "plt.ylabel('Valeur')\n",
    "plt.title('Accuracy Vs Loss')\n",
    "plt.legend()\n",
    "plt.plot()\n",
    "plt.show()"
   ]
  },
  {
   "cell_type": "code",
   "execution_count": null,
   "id": "12014ac7-3424-43c7-8912-4941b5d06e8a",
   "metadata": {},
   "outputs": [],
   "source": [
    "plt.figure(figsize=(15, 6))\n",
    "plt.plot(range(0, len(epoch_accuracy)), epoch_accuracy, color='blue', label='Training Accuracy')\n",
    "plt.plot(range(0, len(epoch_val_acc)), epoch_val_acc, color='red', label='Test Loss')\n",
    "plt.xlabel('Epochs')\n",
    "plt.ylabel('Accuracy')\n",
    "plt.title('Training Accuracy Vs Test Accuracy')\n",
    "plt.legend()\n",
    "plt.plot()\n",
    "plt.show()"
   ]
  },
  {
   "cell_type": "code",
   "execution_count": null,
   "id": "563a25f9-6d10-4548-bc55-5c237c3125c4",
   "metadata": {},
   "outputs": [],
   "source": [
    "plt.figure(figsize=(15, 6))\n",
    "plt.plot(range(0, len(epoch_loss)), epoch_loss, color='blue', label='Training Loss')\n",
    "plt.plot(range(0, len(epoch_val_loss)), epoch_val_loss, color='red', label='Test Loss')\n",
    "plt.xlabel('Epochs')\n",
    "plt.ylabel('Loss')\n",
    "plt.title('Training Loss Vs Test Loss')\n",
    "plt.legend()\n",
    "plt.plot()\n",
    "plt.show()"
   ]
  },
  {
   "cell_type": "markdown",
   "id": "002d0979-3646-42e7-94f2-2a267db66bef",
   "metadata": {},
   "source": [
    "# 8. Evaluation Du Model "
   ]
  },
  {
   "cell_type": "code",
   "execution_count": null,
   "id": "76f77842-22c8-4981-959a-3ab1181a5828",
   "metadata": {},
   "outputs": [],
   "source": [
    "model_snn.evaluate(x_test, y_test)"
   ]
  }
 ],
 "metadata": {
  "kernelspec": {
   "display_name": "Python 3 (ipykernel)",
   "language": "python",
   "name": "python3"
  },
  "language_info": {
   "codemirror_mode": {
    "name": "ipython",
    "version": 3
   },
   "file_extension": ".py",
   "mimetype": "text/x-python",
   "name": "python",
   "nbconvert_exporter": "python",
   "pygments_lexer": "ipython3",
   "version": "3.11.11"
  }
 },
 "nbformat": 4,
 "nbformat_minor": 5
}
