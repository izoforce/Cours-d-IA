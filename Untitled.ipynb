{
 "cells": [
  {
   "cell_type": "markdown",
   "id": "993a5929-e2b5-498a-96e4-b065e99eb453",
   "metadata": {},
   "source": [
    "# A. IMPORTATION DE LIBRARIS"
   ]
  },
  {
   "cell_type": "code",
   "execution_count": 2,
   "id": "d92c9274-54a9-4beb-865c-8f069acf4834",
   "metadata": {},
   "outputs": [],
   "source": [
    "# Importation de libraries"
   ]
  },
  {
   "cell_type": "code",
   "execution_count": 3,
   "id": "90efa082-60da-4a6f-84a5-0b6b7ce1df5a",
   "metadata": {},
   "outputs": [],
   "source": [
    "import numpy as np"
   ]
  },
  {
   "cell_type": "markdown",
   "id": "0e7833c4-fa11-41a3-860d-3a8ffc4a67fb",
   "metadata": {},
   "source": [
    "# 1. Tableau\n"
   ]
  },
  {
   "cell_type": "markdown",
   "id": "7d039dae-75a3-4bcf-8425-9a1cb6f6d9af",
   "metadata": {},
   "source": [
    "# 1.1 Tableau a 1 D"
   ]
  },
  {
   "cell_type": "code",
   "execution_count": 5,
   "id": "f613e8c8-e068-48a3-9ff3-ba5ce77c6f2a",
   "metadata": {},
   "outputs": [],
   "source": [
    "# Cration d'un tableau a 1D\n",
    "tab_1D = np.array([2, 4, 6, 8, 10, 12, 14])"
   ]
  },
  {
   "cell_type": "code",
   "execution_count": 6,
   "id": "193d6a3c-1029-4289-9708-86bcb9b7ff33",
   "metadata": {},
   "outputs": [
    {
     "data": {
      "text/plain": [
       "array([ 2,  4,  6,  8, 10, 12, 14])"
      ]
     },
     "execution_count": 6,
     "metadata": {},
     "output_type": "execute_result"
    }
   ],
   "source": [
    "tab_1D"
   ]
  },
  {
   "cell_type": "code",
   "execution_count": 7,
   "id": "93b6fe84-a079-4de6-8218-d6f4d542354c",
   "metadata": {},
   "outputs": [
    {
     "name": "stdout",
     "output_type": "stream",
     "text": [
      "[ 2  4  6  8 10 12 14]\n"
     ]
    }
   ],
   "source": [
    "print(tab_1D)"
   ]
  },
  {
   "cell_type": "code",
   "execution_count": 8,
   "id": "c3681307-1ad3-4347-8fb0-1f50809d4d6d",
   "metadata": {},
   "outputs": [
    {
     "name": "stdout",
     "output_type": "stream",
     "text": [
      "(7,)\n"
     ]
    }
   ],
   "source": [
    "print(tab_1D.shape)"
   ]
  },
  {
   "cell_type": "code",
   "execution_count": 9,
   "id": "d7cdadae-8a4e-477b-8e45-2fcb8cc361db",
   "metadata": {},
   "outputs": [
    {
     "data": {
      "text/plain": [
       "numpy.ndarray"
      ]
     },
     "execution_count": 9,
     "metadata": {},
     "output_type": "execute_result"
    }
   ],
   "source": [
    "type(tab_1D)"
   ]
  },
  {
   "cell_type": "code",
   "execution_count": 10,
   "id": "675736ed-d8fb-4f8a-85ff-5a350b7b5aab",
   "metadata": {},
   "outputs": [
    {
     "name": "stdout",
     "output_type": "stream",
     "text": [
      "Dimension du Tableau (7,)\n",
      "Type du Tableau <class 'numpy.ndarray'>\n",
      "Voici le Tableau: [ 2  4  6  8 10 12 14]\n"
     ]
    }
   ],
   "source": [
    "print(\"Dimension du Tableau\", tab_1D.shape)\n",
    "print(\"Type du Tableau\", type(tab_1D))\n",
    "print(\"Voici le Tableau:\", tab_1D)"
   ]
  },
  {
   "cell_type": "markdown",
   "id": "3a8cd516-d49a-454b-acee-77e14caf9383",
   "metadata": {},
   "source": [
    "# 1.2 Tableau 2D"
   ]
  },
  {
   "cell_type": "code",
   "execution_count": 11,
   "id": "cd12c6d1-c01e-4746-95f6-cb010c1e9945",
   "metadata": {},
   "outputs": [],
   "source": [
    "# Creaton d'un tableau a 2D\n",
    "tab_2D = np.array([\n",
    "    [1, 3, 5, 7, 8],\n",
    "    [11, 33, 55, 77, 88],\n",
    "    [10, 30, 50, 70, 80]\n",
    "])"
   ]
  },
  {
   "cell_type": "code",
   "execution_count": 12,
   "id": "4ef1a04f-4e76-461e-b9de-c4634f3bac96",
   "metadata": {},
   "outputs": [
    {
     "name": "stdout",
     "output_type": "stream",
     "text": [
      "Dimension du Tableau (3, 5)\n",
      "Type du Tableau <class 'numpy.ndarray'>\n",
      "[[ 1  3  5  7  8]\n",
      " [11 33 55 77 88]\n",
      " [10 30 50 70 80]]\n"
     ]
    }
   ],
   "source": [
    "print(\"Dimension du Tableau\", tab_2D.shape)\n",
    "print(\"Type du Tableau\", type(tab_2D))\n",
    "print(tab_2D)"
   ]
  },
  {
   "cell_type": "markdown",
   "id": "92954918-0b05-41be-9af1-de38296f9ba3",
   "metadata": {},
   "source": [
    "# 1.3 Tableau 3D"
   ]
  },
  {
   "cell_type": "code",
   "execution_count": 13,
   "id": "80fc10d3-fde3-434e-9d63-30c7d0806bcb",
   "metadata": {},
   "outputs": [],
   "source": [
    "# Creation d'un tableeau 3D\n",
    "tab_3D = np.array([[\n",
    "    [11, 9, 7, 5, 3, 1],\n",
    "    [110, 90, 70, 50, 30, 10],\n",
    "    [115, 95, 75, 55, 35, 15],\n",
    "    [1100, 900, 700, 500, 300, 100],\n",
    "]])"
   ]
  },
  {
   "cell_type": "code",
   "execution_count": 14,
   "id": "eaae727c-fcc7-4c49-9f7c-0c9410bdbcc7",
   "metadata": {},
   "outputs": [
    {
     "name": "stdout",
     "output_type": "stream",
     "text": [
      "Dimension du Tableau (1, 4, 6)\n",
      "Type du Tableau <class 'numpy.ndarray'>\n",
      "[[[  11    9    7    5    3    1]\n",
      "  [ 110   90   70   50   30   10]\n",
      "  [ 115   95   75   55   35   15]\n",
      "  [1100  900  700  500  300  100]]]\n"
     ]
    }
   ],
   "source": [
    "print(\"Dimension du Tableau\", tab_3D.shape)\n",
    "print(\"Type du Tableau\", type(tab_3D))\n",
    "print(tab_3D)"
   ]
  },
  {
   "cell_type": "markdown",
   "id": "7b9cfc9c-9fab-4234-b826-9e94b491efde",
   "metadata": {},
   "source": [
    "# 1.4 Tableau a 4D"
   ]
  },
  {
   "cell_type": "code",
   "execution_count": 15,
   "id": "649e1317-0154-4d73-845b-1b0b0bab69a1",
   "metadata": {},
   "outputs": [],
   "source": [
    "# Creation d'un Tableau a 4D\n",
    "tab_4D = np.array([[[\n",
    "    [2, 4, 6, 8, 10],\n",
    "    [25, 45, 65, 85, 105],\n",
    "    [20, 40, 60, 80, 100],\n",
    "]]])"
   ]
  },
  {
   "cell_type": "code",
   "execution_count": 16,
   "id": "2842eb3b-b669-46cb-98bb-525c9a40f9ac",
   "metadata": {},
   "outputs": [
    {
     "name": "stdout",
     "output_type": "stream",
     "text": [
      "Dimension du Tableau (1, 1, 3, 5)\n",
      "Type du Tableau <class 'numpy.ndarray'>\n",
      "[[[[  2   4   6   8  10]\n",
      "   [ 25  45  65  85 105]\n",
      "   [ 20  40  60  80 100]]]]\n"
     ]
    }
   ],
   "source": [
    "print(\"Dimension du Tableau\", tab_4D.shape)\n",
    "print(\"Type du Tableau\", type(tab_4D))\n",
    "print(tab_4D)"
   ]
  },
  {
   "cell_type": "markdown",
   "id": "3d084f1d-0b8d-4b3b-b0f9-2c1079c530e2",
   "metadata": {},
   "source": [
    "\n",
    "# B. OPERATIONS\n"
   ]
  },
  {
   "cell_type": "code",
   "execution_count": 26,
   "id": "92408d8f-6493-47d7-a13e-74775fddcfe2",
   "metadata": {},
   "outputs": [],
   "source": [
    "import numpy as np"
   ]
  },
  {
   "cell_type": "code",
   "execution_count": 27,
   "id": "29edc153-4d0d-4a52-9c2f-ed35d1804264",
   "metadata": {},
   "outputs": [],
   "source": [
    "a = np.array([10,20,30,40,50])"
   ]
  },
  {
   "cell_type": "code",
   "execution_count": 28,
   "id": "cc9b106d-c442-4941-ae7e-98025a878089",
   "metadata": {},
   "outputs": [],
   "source": [
    "b = np.array([60,70,80,90,100,])"
   ]
  },
  {
   "cell_type": "code",
   "execution_count": 29,
   "id": "363d5e2f-7b59-4185-a773-a0842b815b8e",
   "metadata": {},
   "outputs": [],
   "source": [
    "tableau_Add = a + b"
   ]
  },
  {
   "cell_type": "code",
   "execution_count": 30,
   "id": "ff7db30e-104c-4547-ac92-ae6730258bcf",
   "metadata": {},
   "outputs": [
    {
     "name": "stdout",
     "output_type": "stream",
     "text": [
      "[ 70  90 110 130 150]\n"
     ]
    }
   ],
   "source": [
    "print (tableau_Add)"
   ]
  },
  {
   "cell_type": "code",
   "execution_count": 32,
   "id": "1dd56eb9-15b2-4310-8876-24243f8436fb",
   "metadata": {},
   "outputs": [],
   "source": [
    "tableau_Add = a * b"
   ]
  },
  {
   "cell_type": "code",
   "execution_count": 33,
   "id": "5710d5c0-2fce-47f0-8603-4baf476a9b36",
   "metadata": {},
   "outputs": [
    {
     "name": "stdout",
     "output_type": "stream",
     "text": [
      "[ 600 1400 2400 3600 5000]\n"
     ]
    }
   ],
   "source": [
    "print(tableau_Add)"
   ]
  },
  {
   "cell_type": "code",
   "execution_count": 34,
   "id": "17d0379d-78a8-4379-adf1-73ef19ceb186",
   "metadata": {},
   "outputs": [],
   "source": [
    "tableau_Add = b / a"
   ]
  },
  {
   "cell_type": "code",
   "execution_count": 35,
   "id": "b68db72d-c596-4780-a166-58012de70723",
   "metadata": {},
   "outputs": [
    {
     "name": "stdout",
     "output_type": "stream",
     "text": [
      "[6.         3.5        2.66666667 2.25       2.        ]\n"
     ]
    }
   ],
   "source": [
    "print(tableau_Add)"
   ]
  },
  {
   "cell_type": "markdown",
   "id": "a137f51f-aada-46f4-b4fc-8d396bba5821",
   "metadata": {},
   "source": [
    "# c.manipulation"
   ]
  },
  {
   "cell_type": "code",
   "execution_count": 36,
   "id": "d81eb9e4-444d-4558-ac9b-adc42f058f42",
   "metadata": {},
   "outputs": [
    {
     "name": "stdout",
     "output_type": "stream",
     "text": [
      "{'Matricule': '2022021134', 'Nom': 'Mwamba', 'Prenom': 'israel', 'age': 25, 'gpa': 'A'}\n"
     ]
    }
   ],
   "source": [
    "# creation d'un dictionnaire\n",
    "\n",
    "info_etudiant = {\n",
    "    'Matricule':'2022021134',\n",
    "    'Nom':'Mwamba',\n",
    "    'Prenom':'israel',\n",
    "    'age':25,\n",
    "    'gpa':'A'\n",
    "}\n",
    "print(info_etudiant)"
   ]
  },
  {
   "cell_type": "code",
   "execution_count": 38,
   "id": "23e1da17-469c-44ba-8997-cd73fb9dbf36",
   "metadata": {},
   "outputs": [
    {
     "name": "stdout",
     "output_type": "stream",
     "text": [
      "{'Mat': ['2022', '2021', '2023', '2025', '2019'], 'Nom': ['mwamba', 'matanda', 'kapya', 'mutobo', 'ilunga'], 'Prenom': ['israel', 'berny', 'jemima', 'dan', 'emma'], 'age': [25, 15, 24, 37, 13], 'gpa': ['A', 'D', 'A', 'B', 'A']}\n"
     ]
    }
   ],
   "source": [
    "info_etud_gl = {\n",
    "    'Mat':['2022','2021','2023','2025','2019'],\n",
    "    'Nom':['mwamba','matanda','kapya','mutobo','ilunga'],\n",
    "    'Prenom':['israel','berny','jemima','dan','emma'],\n",
    "    'age':[25,15,24,37,13,],\n",
    "    'gpa':['A','D','A','B','A']\n",
    "}\n",
    "print(info_etud_gl)"
   ]
  },
  {
   "cell_type": "code",
   "execution_count": 39,
   "id": "90e7341a-01b2-472b-a607-52b6daedc40c",
   "metadata": {},
   "outputs": [],
   "source": [
    "# importation de pandas"
   ]
  },
  {
   "cell_type": "code",
   "execution_count": 40,
   "id": "3177b1e9-1812-4c20-a53d-4821788f42e9",
   "metadata": {},
   "outputs": [],
   "source": [
    "import pandas as pd"
   ]
  },
  {
   "cell_type": "code",
   "execution_count": 41,
   "id": "b54b01e9-9ba3-48d9-add6-9dc6e04fe0d3",
   "metadata": {},
   "outputs": [
    {
     "data": {
      "text/html": [
       "<div>\n",
       "<style scoped>\n",
       "    .dataframe tbody tr th:only-of-type {\n",
       "        vertical-align: middle;\n",
       "    }\n",
       "\n",
       "    .dataframe tbody tr th {\n",
       "        vertical-align: top;\n",
       "    }\n",
       "\n",
       "    .dataframe thead th {\n",
       "        text-align: right;\n",
       "    }\n",
       "</style>\n",
       "<table border=\"1\" class=\"dataframe\">\n",
       "  <thead>\n",
       "    <tr style=\"text-align: right;\">\n",
       "      <th></th>\n",
       "      <th>Mat</th>\n",
       "      <th>Nom</th>\n",
       "      <th>Prenom</th>\n",
       "      <th>age</th>\n",
       "      <th>gpa</th>\n",
       "    </tr>\n",
       "  </thead>\n",
       "  <tbody>\n",
       "    <tr>\n",
       "      <th>0</th>\n",
       "      <td>2022</td>\n",
       "      <td>mwamba</td>\n",
       "      <td>israel</td>\n",
       "      <td>25</td>\n",
       "      <td>A</td>\n",
       "    </tr>\n",
       "    <tr>\n",
       "      <th>1</th>\n",
       "      <td>2021</td>\n",
       "      <td>matanda</td>\n",
       "      <td>berny</td>\n",
       "      <td>15</td>\n",
       "      <td>D</td>\n",
       "    </tr>\n",
       "    <tr>\n",
       "      <th>2</th>\n",
       "      <td>2023</td>\n",
       "      <td>kapya</td>\n",
       "      <td>jemima</td>\n",
       "      <td>24</td>\n",
       "      <td>A</td>\n",
       "    </tr>\n",
       "    <tr>\n",
       "      <th>3</th>\n",
       "      <td>2025</td>\n",
       "      <td>mutobo</td>\n",
       "      <td>dan</td>\n",
       "      <td>37</td>\n",
       "      <td>B</td>\n",
       "    </tr>\n",
       "    <tr>\n",
       "      <th>4</th>\n",
       "      <td>2019</td>\n",
       "      <td>ilunga</td>\n",
       "      <td>emma</td>\n",
       "      <td>13</td>\n",
       "      <td>A</td>\n",
       "    </tr>\n",
       "  </tbody>\n",
       "</table>\n",
       "</div>"
      ],
      "text/plain": [
       "    Mat      Nom  Prenom  age gpa\n",
       "0  2022   mwamba  israel   25   A\n",
       "1  2021  matanda   berny   15   D\n",
       "2  2023    kapya  jemima   24   A\n",
       "3  2025   mutobo     dan   37   B\n",
       "4  2019   ilunga    emma   13   A"
      ]
     },
     "execution_count": 41,
     "metadata": {},
     "output_type": "execute_result"
    }
   ],
   "source": [
    "data_etud = pd.DataFrame(info_etud_gl)\n",
    "data_etud"
   ]
  },
  {
   "cell_type": "code",
   "execution_count": 42,
   "id": "e1787944-f4b6-4465-be7e-661819f3d9ae",
   "metadata": {},
   "outputs": [
    {
     "data": {
      "text/html": [
       "<div>\n",
       "<style scoped>\n",
       "    .dataframe tbody tr th:only-of-type {\n",
       "        vertical-align: middle;\n",
       "    }\n",
       "\n",
       "    .dataframe tbody tr th {\n",
       "        vertical-align: top;\n",
       "    }\n",
       "\n",
       "    .dataframe thead th {\n",
       "        text-align: right;\n",
       "    }\n",
       "</style>\n",
       "<table border=\"1\" class=\"dataframe\">\n",
       "  <thead>\n",
       "    <tr style=\"text-align: right;\">\n",
       "      <th></th>\n",
       "      <th>Mat</th>\n",
       "      <th>Nom</th>\n",
       "      <th>Prenom</th>\n",
       "      <th>age</th>\n",
       "      <th>gpa</th>\n",
       "    </tr>\n",
       "  </thead>\n",
       "  <tbody>\n",
       "    <tr>\n",
       "      <th>4</th>\n",
       "      <td>2019</td>\n",
       "      <td>ilunga</td>\n",
       "      <td>emma</td>\n",
       "      <td>13</td>\n",
       "      <td>A</td>\n",
       "    </tr>\n",
       "  </tbody>\n",
       "</table>\n",
       "</div>"
      ],
      "text/plain": [
       "    Mat     Nom Prenom  age gpa\n",
       "4  2019  ilunga   emma   13   A"
      ]
     },
     "execution_count": 42,
     "metadata": {},
     "output_type": "execute_result"
    }
   ],
   "source": [
    "data_etud.tail(1)"
   ]
  },
  {
   "cell_type": "code",
   "execution_count": 43,
   "id": "31297abe-fabd-4151-b94b-70f17ca717b2",
   "metadata": {},
   "outputs": [
    {
     "data": {
      "text/plain": [
       "0    2022\n",
       "1    2021\n",
       "2    2023\n",
       "3    2025\n",
       "4    2019\n",
       "Name: Mat, dtype: object"
      ]
     },
     "execution_count": 43,
     "metadata": {},
     "output_type": "execute_result"
    }
   ],
   "source": [
    "data_etud['Mat']"
   ]
  },
  {
   "cell_type": "code",
   "execution_count": 44,
   "id": "fe8171bb-13e8-499f-bf45-59f39fb9cd3f",
   "metadata": {},
   "outputs": [
    {
     "data": {
      "text/html": [
       "<div>\n",
       "<style scoped>\n",
       "    .dataframe tbody tr th:only-of-type {\n",
       "        vertical-align: middle;\n",
       "    }\n",
       "\n",
       "    .dataframe tbody tr th {\n",
       "        vertical-align: top;\n",
       "    }\n",
       "\n",
       "    .dataframe thead th {\n",
       "        text-align: right;\n",
       "    }\n",
       "</style>\n",
       "<table border=\"1\" class=\"dataframe\">\n",
       "  <thead>\n",
       "    <tr style=\"text-align: right;\">\n",
       "      <th></th>\n",
       "      <th>Mat</th>\n",
       "      <th>Nom</th>\n",
       "    </tr>\n",
       "  </thead>\n",
       "  <tbody>\n",
       "    <tr>\n",
       "      <th>0</th>\n",
       "      <td>2022</td>\n",
       "      <td>mwamba</td>\n",
       "    </tr>\n",
       "    <tr>\n",
       "      <th>1</th>\n",
       "      <td>2021</td>\n",
       "      <td>matanda</td>\n",
       "    </tr>\n",
       "    <tr>\n",
       "      <th>2</th>\n",
       "      <td>2023</td>\n",
       "      <td>kapya</td>\n",
       "    </tr>\n",
       "    <tr>\n",
       "      <th>3</th>\n",
       "      <td>2025</td>\n",
       "      <td>mutobo</td>\n",
       "    </tr>\n",
       "    <tr>\n",
       "      <th>4</th>\n",
       "      <td>2019</td>\n",
       "      <td>ilunga</td>\n",
       "    </tr>\n",
       "  </tbody>\n",
       "</table>\n",
       "</div>"
      ],
      "text/plain": [
       "    Mat      Nom\n",
       "0  2022   mwamba\n",
       "1  2021  matanda\n",
       "2  2023    kapya\n",
       "3  2025   mutobo\n",
       "4  2019   ilunga"
      ]
     },
     "execution_count": 44,
     "metadata": {},
     "output_type": "execute_result"
    }
   ],
   "source": [
    "data_etud[['Mat','Nom']]"
   ]
  },
  {
   "cell_type": "code",
   "execution_count": 45,
   "id": "f27332d5-63e1-4d7b-94a5-e81c22b137fe",
   "metadata": {},
   "outputs": [],
   "source": [
    "# qfficher les information de mutobo"
   ]
  },
  {
   "cell_type": "code",
   "execution_count": 46,
   "id": "c62e54bb-b8ed-4775-8185-b4b0fefe8b78",
   "metadata": {},
   "outputs": [
    {
     "data": {
      "text/html": [
       "<div>\n",
       "<style scoped>\n",
       "    .dataframe tbody tr th:only-of-type {\n",
       "        vertical-align: middle;\n",
       "    }\n",
       "\n",
       "    .dataframe tbody tr th {\n",
       "        vertical-align: top;\n",
       "    }\n",
       "\n",
       "    .dataframe thead th {\n",
       "        text-align: right;\n",
       "    }\n",
       "</style>\n",
       "<table border=\"1\" class=\"dataframe\">\n",
       "  <thead>\n",
       "    <tr style=\"text-align: right;\">\n",
       "      <th></th>\n",
       "      <th>Mat</th>\n",
       "      <th>Nom</th>\n",
       "      <th>Prenom</th>\n",
       "      <th>age</th>\n",
       "      <th>gpa</th>\n",
       "    </tr>\n",
       "  </thead>\n",
       "  <tbody>\n",
       "    <tr>\n",
       "      <th>2</th>\n",
       "      <td>2023</td>\n",
       "      <td>kapya</td>\n",
       "      <td>jemima</td>\n",
       "      <td>24</td>\n",
       "      <td>A</td>\n",
       "    </tr>\n",
       "  </tbody>\n",
       "</table>\n",
       "</div>"
      ],
      "text/plain": [
       "    Mat    Nom  Prenom  age gpa\n",
       "2  2023  kapya  jemima   24   A"
      ]
     },
     "execution_count": 46,
     "metadata": {},
     "output_type": "execute_result"
    }
   ],
   "source": [
    "data_etud.iloc[2:3, :]"
   ]
  },
  {
   "cell_type": "code",
   "execution_count": 47,
   "id": "19c0c3e1-2306-4ba3-8295-cfad109a7c66",
   "metadata": {},
   "outputs": [
    {
     "data": {
      "text/html": [
       "<div>\n",
       "<style scoped>\n",
       "    .dataframe tbody tr th:only-of-type {\n",
       "        vertical-align: middle;\n",
       "    }\n",
       "\n",
       "    .dataframe tbody tr th {\n",
       "        vertical-align: top;\n",
       "    }\n",
       "\n",
       "    .dataframe thead th {\n",
       "        text-align: right;\n",
       "    }\n",
       "</style>\n",
       "<table border=\"1\" class=\"dataframe\">\n",
       "  <thead>\n",
       "    <tr style=\"text-align: right;\">\n",
       "      <th></th>\n",
       "      <th>age</th>\n",
       "    </tr>\n",
       "  </thead>\n",
       "  <tbody>\n",
       "    <tr>\n",
       "      <th>2</th>\n",
       "      <td>24</td>\n",
       "    </tr>\n",
       "  </tbody>\n",
       "</table>\n",
       "</div>"
      ],
      "text/plain": [
       "   age\n",
       "2   24"
      ]
     },
     "execution_count": 47,
     "metadata": {},
     "output_type": "execute_result"
    }
   ],
   "source": [
    "data_etud.iloc[2:3, 3:4]"
   ]
  },
  {
   "cell_type": "code",
   "execution_count": 54,
   "id": "db626cda-2bf9-4970-9664-020c700e2142",
   "metadata": {},
   "outputs": [],
   "source": [
    "# ajouter les colones\n",
    "data_etud['Genre'] =['M','M','F','M','M']\n",
    "data_etud['Pourcentage'] = [67,78,87,90,58]"
   ]
  },
  {
   "cell_type": "code",
   "execution_count": 55,
   "id": "6247a4ab-4e76-4dd4-b2ac-09fa08af9fcd",
   "metadata": {},
   "outputs": [
    {
     "data": {
      "text/html": [
       "<div>\n",
       "<style scoped>\n",
       "    .dataframe tbody tr th:only-of-type {\n",
       "        vertical-align: middle;\n",
       "    }\n",
       "\n",
       "    .dataframe tbody tr th {\n",
       "        vertical-align: top;\n",
       "    }\n",
       "\n",
       "    .dataframe thead th {\n",
       "        text-align: right;\n",
       "    }\n",
       "</style>\n",
       "<table border=\"1\" class=\"dataframe\">\n",
       "  <thead>\n",
       "    <tr style=\"text-align: right;\">\n",
       "      <th></th>\n",
       "      <th>Mat</th>\n",
       "      <th>Nom</th>\n",
       "      <th>Prenom</th>\n",
       "      <th>age</th>\n",
       "      <th>gpa</th>\n",
       "      <th>Genre</th>\n",
       "      <th>Pourcentage</th>\n",
       "    </tr>\n",
       "  </thead>\n",
       "  <tbody>\n",
       "    <tr>\n",
       "      <th>0</th>\n",
       "      <td>2022</td>\n",
       "      <td>mwamba</td>\n",
       "      <td>israel</td>\n",
       "      <td>25</td>\n",
       "      <td>A</td>\n",
       "      <td>M</td>\n",
       "      <td>67</td>\n",
       "    </tr>\n",
       "    <tr>\n",
       "      <th>1</th>\n",
       "      <td>2021</td>\n",
       "      <td>matanda</td>\n",
       "      <td>berny</td>\n",
       "      <td>15</td>\n",
       "      <td>D</td>\n",
       "      <td>M</td>\n",
       "      <td>78</td>\n",
       "    </tr>\n",
       "    <tr>\n",
       "      <th>2</th>\n",
       "      <td>2023</td>\n",
       "      <td>kapya</td>\n",
       "      <td>jemima</td>\n",
       "      <td>24</td>\n",
       "      <td>A</td>\n",
       "      <td>F</td>\n",
       "      <td>87</td>\n",
       "    </tr>\n",
       "    <tr>\n",
       "      <th>3</th>\n",
       "      <td>2025</td>\n",
       "      <td>mutobo</td>\n",
       "      <td>dan</td>\n",
       "      <td>37</td>\n",
       "      <td>B</td>\n",
       "      <td>M</td>\n",
       "      <td>90</td>\n",
       "    </tr>\n",
       "    <tr>\n",
       "      <th>4</th>\n",
       "      <td>2019</td>\n",
       "      <td>ilunga</td>\n",
       "      <td>emma</td>\n",
       "      <td>13</td>\n",
       "      <td>A</td>\n",
       "      <td>M</td>\n",
       "      <td>58</td>\n",
       "    </tr>\n",
       "  </tbody>\n",
       "</table>\n",
       "</div>"
      ],
      "text/plain": [
       "    Mat      Nom  Prenom  age gpa Genre  Pourcentage\n",
       "0  2022   mwamba  israel   25   A     M           67\n",
       "1  2021  matanda   berny   15   D     M           78\n",
       "2  2023    kapya  jemima   24   A     F           87\n",
       "3  2025   mutobo     dan   37   B     M           90\n",
       "4  2019   ilunga    emma   13   A     M           58"
      ]
     },
     "execution_count": 55,
     "metadata": {},
     "output_type": "execute_result"
    }
   ],
   "source": [
    "data_etud"
   ]
  },
  {
   "cell_type": "code",
   "execution_count": 56,
   "id": "2a0d9438-e292-4262-b286-339580aa42e4",
   "metadata": {},
   "outputs": [],
   "source": [
    "#supprimer la colonnne gpa"
   ]
  },
  {
   "cell_type": "code",
   "execution_count": 59,
   "id": "c3df90fc-f68c-4bb9-818e-08c8913ebafb",
   "metadata": {},
   "outputs": [],
   "source": [
    "data_etud.drop(columns=['gpa'], inplace=True)"
   ]
  },
  {
   "cell_type": "code",
   "execution_count": 60,
   "id": "b09ca312-19b5-40e2-9782-0a7ebbc18a6f",
   "metadata": {},
   "outputs": [
    {
     "data": {
      "text/html": [
       "<div>\n",
       "<style scoped>\n",
       "    .dataframe tbody tr th:only-of-type {\n",
       "        vertical-align: middle;\n",
       "    }\n",
       "\n",
       "    .dataframe tbody tr th {\n",
       "        vertical-align: top;\n",
       "    }\n",
       "\n",
       "    .dataframe thead th {\n",
       "        text-align: right;\n",
       "    }\n",
       "</style>\n",
       "<table border=\"1\" class=\"dataframe\">\n",
       "  <thead>\n",
       "    <tr style=\"text-align: right;\">\n",
       "      <th></th>\n",
       "      <th>Mat</th>\n",
       "      <th>Nom</th>\n",
       "      <th>Prenom</th>\n",
       "      <th>age</th>\n",
       "      <th>Genre</th>\n",
       "      <th>Pourcentage</th>\n",
       "    </tr>\n",
       "  </thead>\n",
       "  <tbody>\n",
       "    <tr>\n",
       "      <th>0</th>\n",
       "      <td>2022</td>\n",
       "      <td>mwamba</td>\n",
       "      <td>israel</td>\n",
       "      <td>25</td>\n",
       "      <td>M</td>\n",
       "      <td>67</td>\n",
       "    </tr>\n",
       "    <tr>\n",
       "      <th>1</th>\n",
       "      <td>2021</td>\n",
       "      <td>matanda</td>\n",
       "      <td>berny</td>\n",
       "      <td>15</td>\n",
       "      <td>M</td>\n",
       "      <td>78</td>\n",
       "    </tr>\n",
       "    <tr>\n",
       "      <th>2</th>\n",
       "      <td>2023</td>\n",
       "      <td>kapya</td>\n",
       "      <td>jemima</td>\n",
       "      <td>24</td>\n",
       "      <td>F</td>\n",
       "      <td>87</td>\n",
       "    </tr>\n",
       "    <tr>\n",
       "      <th>3</th>\n",
       "      <td>2025</td>\n",
       "      <td>mutobo</td>\n",
       "      <td>dan</td>\n",
       "      <td>37</td>\n",
       "      <td>M</td>\n",
       "      <td>90</td>\n",
       "    </tr>\n",
       "    <tr>\n",
       "      <th>4</th>\n",
       "      <td>2019</td>\n",
       "      <td>ilunga</td>\n",
       "      <td>emma</td>\n",
       "      <td>13</td>\n",
       "      <td>M</td>\n",
       "      <td>58</td>\n",
       "    </tr>\n",
       "  </tbody>\n",
       "</table>\n",
       "</div>"
      ],
      "text/plain": [
       "    Mat      Nom  Prenom  age Genre  Pourcentage\n",
       "0  2022   mwamba  israel   25     M           67\n",
       "1  2021  matanda   berny   15     M           78\n",
       "2  2023    kapya  jemima   24     F           87\n",
       "3  2025   mutobo     dan   37     M           90\n",
       "4  2019   ilunga    emma   13     M           58"
      ]
     },
     "execution_count": 60,
     "metadata": {},
     "output_type": "execute_result"
    }
   ],
   "source": [
    "data_etud"
   ]
  },
  {
   "cell_type": "code",
   "execution_count": 61,
   "id": "57ba7012-347e-46fe-8e88-b20911570d39",
   "metadata": {},
   "outputs": [],
   "source": [
    "#convertir la colonne Genre en M=1 et F=0"
   ]
  },
  {
   "cell_type": "code",
   "execution_count": 62,
   "id": "b55d815f-4b59-45c9-b1c7-256ab4939f0c",
   "metadata": {},
   "outputs": [],
   "source": [
    "#Mapping de la conne Genre"
   ]
  },
  {
   "cell_type": "code",
   "execution_count": 63,
   "id": "57fff576-88f2-4f19-a63a-8967336ad2a0",
   "metadata": {},
   "outputs": [],
   "source": [
    "Mapping_Genre = {\n",
    "    'M' : 1,\n",
    "    'F' : 0\n",
    "} "
   ]
  },
  {
   "cell_type": "code",
   "execution_count": 64,
   "id": "e5607ff3-119f-4e26-8d50-7530a661205c",
   "metadata": {},
   "outputs": [],
   "source": [
    "data_etud['Genre'] = data_etud['Genre'].map(Mapping_Genre)"
   ]
  },
  {
   "cell_type": "code",
   "execution_count": 65,
   "id": "ba6566a6-59ce-45d7-9061-9e8b0d68f1fc",
   "metadata": {},
   "outputs": [
    {
     "data": {
      "text/html": [
       "<div>\n",
       "<style scoped>\n",
       "    .dataframe tbody tr th:only-of-type {\n",
       "        vertical-align: middle;\n",
       "    }\n",
       "\n",
       "    .dataframe tbody tr th {\n",
       "        vertical-align: top;\n",
       "    }\n",
       "\n",
       "    .dataframe thead th {\n",
       "        text-align: right;\n",
       "    }\n",
       "</style>\n",
       "<table border=\"1\" class=\"dataframe\">\n",
       "  <thead>\n",
       "    <tr style=\"text-align: right;\">\n",
       "      <th></th>\n",
       "      <th>Mat</th>\n",
       "      <th>Nom</th>\n",
       "      <th>Prenom</th>\n",
       "      <th>age</th>\n",
       "      <th>Genre</th>\n",
       "      <th>Pourcentage</th>\n",
       "    </tr>\n",
       "  </thead>\n",
       "  <tbody>\n",
       "    <tr>\n",
       "      <th>0</th>\n",
       "      <td>2022</td>\n",
       "      <td>mwamba</td>\n",
       "      <td>israel</td>\n",
       "      <td>25</td>\n",
       "      <td>1</td>\n",
       "      <td>67</td>\n",
       "    </tr>\n",
       "    <tr>\n",
       "      <th>1</th>\n",
       "      <td>2021</td>\n",
       "      <td>matanda</td>\n",
       "      <td>berny</td>\n",
       "      <td>15</td>\n",
       "      <td>1</td>\n",
       "      <td>78</td>\n",
       "    </tr>\n",
       "    <tr>\n",
       "      <th>2</th>\n",
       "      <td>2023</td>\n",
       "      <td>kapya</td>\n",
       "      <td>jemima</td>\n",
       "      <td>24</td>\n",
       "      <td>0</td>\n",
       "      <td>87</td>\n",
       "    </tr>\n",
       "    <tr>\n",
       "      <th>3</th>\n",
       "      <td>2025</td>\n",
       "      <td>mutobo</td>\n",
       "      <td>dan</td>\n",
       "      <td>37</td>\n",
       "      <td>1</td>\n",
       "      <td>90</td>\n",
       "    </tr>\n",
       "    <tr>\n",
       "      <th>4</th>\n",
       "      <td>2019</td>\n",
       "      <td>ilunga</td>\n",
       "      <td>emma</td>\n",
       "      <td>13</td>\n",
       "      <td>1</td>\n",
       "      <td>58</td>\n",
       "    </tr>\n",
       "  </tbody>\n",
       "</table>\n",
       "</div>"
      ],
      "text/plain": [
       "    Mat      Nom  Prenom  age  Genre  Pourcentage\n",
       "0  2022   mwamba  israel   25      1           67\n",
       "1  2021  matanda   berny   15      1           78\n",
       "2  2023    kapya  jemima   24      0           87\n",
       "3  2025   mutobo     dan   37      1           90\n",
       "4  2019   ilunga    emma   13      1           58"
      ]
     },
     "execution_count": 65,
     "metadata": {},
     "output_type": "execute_result"
    }
   ],
   "source": [
    "data_etud"
   ]
  },
  {
   "cell_type": "markdown",
   "id": "1b17942c-844a-4b9c-86ea-6317284ce280",
   "metadata": {},
   "source": [
    "# D. VISUALISATION DES DONNEES"
   ]
  },
  {
   "cell_type": "code",
   "execution_count": 66,
   "id": "8f81e19c-87db-44ac-bf68-e8a6c1df5ea0",
   "metadata": {},
   "outputs": [],
   "source": [
    "#creation des données"
   ]
  },
  {
   "cell_type": "code",
   "execution_count": 67,
   "id": "846ab5b9-6621-45cb-bfeb-ba10992062a2",
   "metadata": {},
   "outputs": [],
   "source": [
    "import numpy as np"
   ]
  },
  {
   "cell_type": "code",
   "execution_count": 68,
   "id": "cf3f7d73-7afc-48b1-ace2-a4c6a7c86d8a",
   "metadata": {},
   "outputs": [],
   "source": [
    "x = np.linspace(0,20,50)"
   ]
  },
  {
   "cell_type": "code",
   "execution_count": 69,
   "id": "b7935f22-75e9-43d6-a863-29685f562f59",
   "metadata": {},
   "outputs": [
    {
     "data": {
      "text/plain": [
       "array([ 0.        ,  0.40816327,  0.81632653,  1.2244898 ,  1.63265306,\n",
       "        2.04081633,  2.44897959,  2.85714286,  3.26530612,  3.67346939,\n",
       "        4.08163265,  4.48979592,  4.89795918,  5.30612245,  5.71428571,\n",
       "        6.12244898,  6.53061224,  6.93877551,  7.34693878,  7.75510204,\n",
       "        8.16326531,  8.57142857,  8.97959184,  9.3877551 ,  9.79591837,\n",
       "       10.20408163, 10.6122449 , 11.02040816, 11.42857143, 11.83673469,\n",
       "       12.24489796, 12.65306122, 13.06122449, 13.46938776, 13.87755102,\n",
       "       14.28571429, 14.69387755, 15.10204082, 15.51020408, 15.91836735,\n",
       "       16.32653061, 16.73469388, 17.14285714, 17.55102041, 17.95918367,\n",
       "       18.36734694, 18.7755102 , 19.18367347, 19.59183673, 20.        ])"
      ]
     },
     "execution_count": 69,
     "metadata": {},
     "output_type": "execute_result"
    }
   ],
   "source": [
    "x"
   ]
  },
  {
   "cell_type": "code",
   "execution_count": 70,
   "id": "78123f14-8a7c-4fd5-806e-7b1163571025",
   "metadata": {},
   "outputs": [],
   "source": [
    "#Importation de Matplotlib"
   ]
  },
  {
   "cell_type": "code",
   "execution_count": 71,
   "id": "b05206b8-db41-4c83-ae6e-e47ed8b3bb11",
   "metadata": {},
   "outputs": [],
   "source": [
    "import matplotlib.pyplot as plt"
   ]
  },
  {
   "cell_type": "code",
   "execution_count": 72,
   "id": "84c285e1-6d2d-4fbd-8854-baa8b9ae0f1f",
   "metadata": {},
   "outputs": [
    {
     "data": {
      "text/plain": [
       "<matplotlib.legend.Legend at 0x18175cb2590>"
      ]
     },
     "execution_count": 72,
     "metadata": {},
     "output_type": "execute_result"
    },
    {
     "data": {
      "image/png": "[encoded data removed]",
      "text/plain": [
       "<Figure size 600x400 with 1 Axes>"
      ]
     },
     "metadata": {},
     "output_type": "display_data"
    }
   ],
   "source": [
    "fig, ax = plt.subplots(figsize = (6,4))\n",
    "ax.plot(x, x*2, label='double')\n",
    "ax.plot(x, x**2, label='carre de X')\n",
    "ax.plot(x, x**3, label='cube de X')\n",
    "ax.set_xlabel('Donnees de X')\n",
    "ax.set_ylabel('Donnees de Y')\n",
    "plt.title('donnees de linspace entre 0 et 2')\n",
    "ax.legend()"
   ]
  },
  {
   "cell_type": "code",
   "execution_count": 86,
   "id": "a0406667-2332-48f5-b2bd-8d74e54d6218",
   "metadata": {},
   "outputs": [],
   "source": [
    "# Importer SEABORN\n",
    "import seaborn as sns"
   ]
  },
  {
   "cell_type": "code",
   "execution_count": 87,
   "id": "9cd4842e-02b4-4425-a957-906ea33ba0bd",
   "metadata": {},
   "outputs": [],
   "source": [
    "iris_data = sns.load_dataset('iris')"
   ]
  },
  {
   "cell_type": "code",
   "execution_count": 88,
   "id": "ec428079-b9c2-466e-bf2f-346e9a62fcc1",
   "metadata": {},
   "outputs": [
    {
     "data": {
      "text/plain": [
       "<bound method NDFrame.head of      sepal_length  sepal_width  petal_length  petal_width    species\n",
       "0             5.1          3.5           1.4          0.2     setosa\n",
       "1             4.9          3.0           1.4          0.2     setosa\n",
       "2             4.7          3.2           1.3          0.2     setosa\n",
       "3             4.6          3.1           1.5          0.2     setosa\n",
       "4             5.0          3.6           1.4          0.2     setosa\n",
       "..            ...          ...           ...          ...        ...\n",
       "145           6.7          3.0           5.2          2.3  virginica\n",
       "146           6.3          2.5           5.0          1.9  virginica\n",
       "147           6.5          3.0           5.2          2.0  virginica\n",
       "148           6.2          3.4           5.4          2.3  virginica\n",
       "149           5.9          3.0           5.1          1.8  virginica\n",
       "\n",
       "[150 rows x 5 columns]>"
      ]
     },
     "execution_count": 88,
     "metadata": {},
     "output_type": "execute_result"
    }
   ],
   "source": [
    "iris_data.head"
   ]
  },
  {
   "cell_type": "code",
   "execution_count": 89,
   "id": "18da77bd-f343-442b-a6ab-52d7b1dd6bc1",
   "metadata": {},
   "outputs": [
    {
     "data": {
      "text/plain": [
       "(150, 5)"
      ]
     },
     "execution_count": 89,
     "metadata": {},
     "output_type": "execute_result"
    }
   ],
   "source": [
    "iris_data.shape"
   ]
  },
  {
   "cell_type": "code",
   "execution_count": 90,
   "id": "2b2864b1-d75e-4171-bbb2-fae05895cfa3",
   "metadata": {},
   "outputs": [
    {
     "data": {
      "text/plain": [
       "array(['setosa', 'versicolor', 'virginica'], dtype=object)"
      ]
     },
     "execution_count": 90,
     "metadata": {},
     "output_type": "execute_result"
    }
   ],
   "source": [
    "iris_data['species'].unique()"
   ]
  },
  {
   "cell_type": "code",
   "execution_count": 92,
   "id": "bb97f521-03df-4704-8852-fc996d4b1c51",
   "metadata": {},
   "outputs": [
    {
     "data": {
      "text/plain": [
       "<Axes: xlabel='sepal_length', ylabel='sepal_width'>"
      ]
     },
     "execution_count": 92,
     "metadata": {},
     "output_type": "execute_result"
    },
    {
     "data": {
      "image/png": "[encoded data removed]",
      "text/plain": [
       "<Figure size 640x480 with 1 Axes>"
      ]
     },
     "metadata": {},
     "output_type": "display_data"
    }
   ],
   "source": [
    "sns.scatterplot(x='sepal_length',y='sepal_width',data = iris_data, hue='species')"
   ]
  },
  {
   "cell_type": "code",
   "execution_count": 94,
   "id": "617df038-4150-4524-9b37-c3c39458d826",
   "metadata": {},
   "outputs": [
    {
     "data": {
      "text/plain": [
       "array([0, 1, 2])"
      ]
     },
     "execution_count": 94,
     "metadata": {},
     "output_type": "execute_result"
    }
   ],
   "source": [
    "Mapping_td = {\n",
    "    'setosa' : 0,\n",
    "    'versicolor' : 1,\n",
    "    'virginica' : 2,\n",
    "}\n",
    "iris_data['species'] = iris_data['species'].map(Mapping_td)\n",
    "iris_data['species'].unique()"
   ]
  },
  {
   "cell_type": "code",
   "execution_count": 95,
   "id": "2f4d94f9-ee70-4e06-9702-2314a5ac1bf9",
   "metadata": {},
   "outputs": [
    {
     "data": {
      "text/html": [
       "<div>\n",
       "<style scoped>\n",
       "    .dataframe tbody tr th:only-of-type {\n",
       "        vertical-align: middle;\n",
       "    }\n",
       "\n",
       "    .dataframe tbody tr th {\n",
       "        vertical-align: top;\n",
       "    }\n",
       "\n",
       "    .dataframe thead th {\n",
       "        text-align: right;\n",
       "    }\n",
       "</style>\n",
       "<table border=\"1\" class=\"dataframe\">\n",
       "  <thead>\n",
       "    <tr style=\"text-align: right;\">\n",
       "      <th></th>\n",
       "      <th>sepal_length</th>\n",
       "      <th>sepal_width</th>\n",
       "      <th>petal_length</th>\n",
       "      <th>petal_width</th>\n",
       "      <th>species</th>\n",
       "    </tr>\n",
       "  </thead>\n",
       "  <tbody>\n",
       "    <tr>\n",
       "      <th>0</th>\n",
       "      <td>5.1</td>\n",
       "      <td>3.5</td>\n",
       "      <td>1.4</td>\n",
       "      <td>0.2</td>\n",
       "      <td>0</td>\n",
       "    </tr>\n",
       "    <tr>\n",
       "      <th>1</th>\n",
       "      <td>4.9</td>\n",
       "      <td>3.0</td>\n",
       "      <td>1.4</td>\n",
       "      <td>0.2</td>\n",
       "      <td>0</td>\n",
       "    </tr>\n",
       "    <tr>\n",
       "      <th>2</th>\n",
       "      <td>4.7</td>\n",
       "      <td>3.2</td>\n",
       "      <td>1.3</td>\n",
       "      <td>0.2</td>\n",
       "      <td>0</td>\n",
       "    </tr>\n",
       "    <tr>\n",
       "      <th>3</th>\n",
       "      <td>4.6</td>\n",
       "      <td>3.1</td>\n",
       "      <td>1.5</td>\n",
       "      <td>0.2</td>\n",
       "      <td>0</td>\n",
       "    </tr>\n",
       "    <tr>\n",
       "      <th>4</th>\n",
       "      <td>5.0</td>\n",
       "      <td>3.6</td>\n",
       "      <td>1.4</td>\n",
       "      <td>0.2</td>\n",
       "      <td>0</td>\n",
       "    </tr>\n",
       "    <tr>\n",
       "      <th>...</th>\n",
       "      <td>...</td>\n",
       "      <td>...</td>\n",
       "      <td>...</td>\n",
       "      <td>...</td>\n",
       "      <td>...</td>\n",
       "    </tr>\n",
       "    <tr>\n",
       "      <th>145</th>\n",
       "      <td>6.7</td>\n",
       "      <td>3.0</td>\n",
       "      <td>5.2</td>\n",
       "      <td>2.3</td>\n",
       "      <td>2</td>\n",
       "    </tr>\n",
       "    <tr>\n",
       "      <th>146</th>\n",
       "      <td>6.3</td>\n",
       "      <td>2.5</td>\n",
       "      <td>5.0</td>\n",
       "      <td>1.9</td>\n",
       "      <td>2</td>\n",
       "    </tr>\n",
       "    <tr>\n",
       "      <th>147</th>\n",
       "      <td>6.5</td>\n",
       "      <td>3.0</td>\n",
       "      <td>5.2</td>\n",
       "      <td>2.0</td>\n",
       "      <td>2</td>\n",
       "    </tr>\n",
       "    <tr>\n",
       "      <th>148</th>\n",
       "      <td>6.2</td>\n",
       "      <td>3.4</td>\n",
       "      <td>5.4</td>\n",
       "      <td>2.3</td>\n",
       "      <td>2</td>\n",
       "    </tr>\n",
       "    <tr>\n",
       "      <th>149</th>\n",
       "      <td>5.9</td>\n",
       "      <td>3.0</td>\n",
       "      <td>5.1</td>\n",
       "      <td>1.8</td>\n",
       "      <td>2</td>\n",
       "    </tr>\n",
       "  </tbody>\n",
       "</table>\n",
       "<p>150 rows × 5 columns</p>\n",
       "</div>"
      ],
      "text/plain": [
       "     sepal_length  sepal_width  petal_length  petal_width  species\n",
       "0             5.1          3.5           1.4          0.2        0\n",
       "1             4.9          3.0           1.4          0.2        0\n",
       "2             4.7          3.2           1.3          0.2        0\n",
       "3             4.6          3.1           1.5          0.2        0\n",
       "4             5.0          3.6           1.4          0.2        0\n",
       "..            ...          ...           ...          ...      ...\n",
       "145           6.7          3.0           5.2          2.3        2\n",
       "146           6.3          2.5           5.0          1.9        2\n",
       "147           6.5          3.0           5.2          2.0        2\n",
       "148           6.2          3.4           5.4          2.3        2\n",
       "149           5.9          3.0           5.1          1.8        2\n",
       "\n",
       "[150 rows x 5 columns]"
      ]
     },
     "execution_count": 95,
     "metadata": {},
     "output_type": "execute_result"
    }
   ],
   "source": [
    "iris_data"
   ]
  },
  {
   "cell_type": "code",
   "execution_count": null,
   "id": "18cc5766-c050-45e1-b962-ce69e309560e",
   "metadata": {},
   "outputs": [],
   "source": []
  }
 ],
 "metadata": {
  "kernelspec": {
   "display_name": "Python 3 (ipykernel)",
   "language": "python",
   "name": "python3"
  },
  "language_info": {
   "codemirror_mode": {
    "name": "ipython",
    "version": 3
   },
   "file_extension": ".py",
   "mimetype": "text/x-python",
   "name": "python",
   "nbconvert_exporter": "python",
   "pygments_lexer": "ipython3",
   "version": "3.11.11"
  }
 },
 "nbformat": 4,
 "nbformat_minor": 5
}
